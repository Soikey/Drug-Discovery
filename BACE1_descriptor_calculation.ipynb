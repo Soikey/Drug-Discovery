{
  "cells": [
    {
      "cell_type": "markdown",
      "metadata": {
        "id": "lclTeaz8B2z_"
      },
      "source": [
        "##  Feature Selection"
      ]
    },
    {
      "cell_type": "code",
      "execution_count": 59,
      "metadata": {
        "colab": {
          "base_uri": "https://localhost:8080/"
        },
        "id": "tu4wpv5W8Mfd",
        "outputId": "6390be3d-3335-4151-9cab-1615eda29f3a"
      },
      "outputs": [
        {
          "name": "stdout",
          "output_type": "stream",
          "text": [
            "Requirement already satisfied: rdkit in /home/bio/anaconda3/envs/drug/lib/python3.11/site-packages (2024.9.5)\n",
            "Requirement already satisfied: deap in /home/bio/anaconda3/envs/drug/lib/python3.11/site-packages (1.4.2)\n",
            "Requirement already satisfied: scikit-learn in /home/bio/anaconda3/envs/drug/lib/python3.11/site-packages (1.6.1)\n",
            "Requirement already satisfied: numpy in /home/bio/.local/lib/python3.11/site-packages (from rdkit) (1.23.5)\n",
            "Requirement already satisfied: Pillow in /home/bio/.local/lib/python3.11/site-packages (from rdkit) (11.0.0)\n",
            "Requirement already satisfied: scipy>=1.6.0 in /home/bio/anaconda3/envs/drug/lib/python3.11/site-packages (from scikit-learn) (1.15.2)\n",
            "Requirement already satisfied: joblib>=1.2.0 in /home/bio/anaconda3/envs/drug/lib/python3.11/site-packages (from scikit-learn) (1.4.2)\n",
            "Requirement already satisfied: threadpoolctl>=3.1.0 in /home/bio/anaconda3/envs/drug/lib/python3.11/site-packages (from scikit-learn) (3.5.0)\n"
          ]
        }
      ],
      "source": [
        "!pip install rdkit deap scikit-learn"
      ]
    },
    {
      "cell_type": "code",
      "execution_count": 60,
      "metadata": {
        "colab": {
          "base_uri": "https://localhost:8080/"
        },
        "collapsed": true,
        "id": "35lS3btGrda9",
        "outputId": "63b99424-5096-46eb-c262-0d0a88e7c152"
      },
      "outputs": [
        {
          "name": "stdout",
          "output_type": "stream",
          "text": [
            "Requirement already satisfied: mordred in /home/bio/anaconda3/envs/drug/lib/python3.11/site-packages (1.2.0)\n",
            "Requirement already satisfied: six==1.* in /home/bio/anaconda3/envs/drug/lib/python3.11/site-packages (from mordred) (1.17.0)\n",
            "Requirement already satisfied: numpy==1.* in /home/bio/.local/lib/python3.11/site-packages (from mordred) (1.23.5)\n",
            "Requirement already satisfied: networkx==2.* in /home/bio/anaconda3/envs/drug/lib/python3.11/site-packages (from mordred) (2.8.8)\n"
          ]
        }
      ],
      "source": [
        "!pip install mordred"
      ]
    },
    {
      "cell_type": "code",
      "execution_count": 19,
      "metadata": {
        "colab": {
          "base_uri": "https://localhost:8080/"
        },
        "id": "Q6JDxQhAaEeV",
        "outputId": "b1c34004-ab05-40fb-8548-94e0268e6d47"
      },
      "outputs": [
        {
          "name": "stdout",
          "output_type": "stream",
          "text": [
            "Requirement already satisfied: numpy<1.24 in /home/bio/.local/lib/python3.11/site-packages (1.23.5)\n",
            "Note: you may need to restart the kernel to use updated packages.\n"
          ]
        }
      ],
      "source": [
        "pip install \"numpy<1.24\""
      ]
    },
    {
      "cell_type": "code",
      "execution_count": 61,
      "metadata": {
        "id": "lWtqmnD-71RC"
      },
      "outputs": [],
      "source": [
        "import numpy as np\n",
        "import pandas as pd\n",
        "import random\n",
        "\n",
        "from rdkit import Chem\n",
        "from rdkit.Chem import Descriptors, Draw\n",
        "\n",
        "from deap import base, creator, tools, algorithms\n",
        "\n",
        "from sklearn.decomposition import PCA\n",
        "from sklearn.manifold import TSNE\n",
        "from sklearn.model_selection import train_test_split, cross_val_score\n",
        "from sklearn.ensemble import AdaBoostClassifier, GradientBoostingClassifier, ExtraTreesClassifier, RandomForestClassifier\n",
        "from sklearn.metrics import accuracy_score\n",
        "from sklearn.feature_selection import VarianceThreshold\n",
        "\n",
        "import matplotlib.pyplot as plt\n",
        "import seaborn as sns"
      ]
    },
    {
      "cell_type": "markdown",
      "metadata": {
        "id": "rIJMshAI8MAh"
      },
      "source": [
        "Load and Preprocess Molecular Data"
      ]
    },
    {
      "cell_type": "code",
      "execution_count": 62,
      "metadata": {
        "id": "FFB0kM1O8__X"
      },
      "outputs": [],
      "source": [
        "# data = pd.read_csv(\"/content/bace1_bioactivity_data_curated.csv\")\n",
        "\n",
        "\n",
        "data = pd.read_csv(\"bace1_bioactivity_data_curated.csv\")\n",
        "# data = data1.head(10)"
      ]
    },
    {
      "cell_type": "code",
      "execution_count": 63,
      "metadata": {
        "colab": {
          "base_uri": "https://localhost:8080/",
          "height": 206
        },
        "id": "7qNYddLMs4gN",
        "outputId": "110d2b7f-ad64-48ab-d3c0-2235ebd0aa2a"
      },
      "outputs": [
        {
          "data": {
            "text/html": [
              "<div>\n",
              "<style scoped>\n",
              "    .dataframe tbody tr th:only-of-type {\n",
              "        vertical-align: middle;\n",
              "    }\n",
              "\n",
              "    .dataframe tbody tr th {\n",
              "        vertical-align: top;\n",
              "    }\n",
              "\n",
              "    .dataframe thead th {\n",
              "        text-align: right;\n",
              "    }\n",
              "</style>\n",
              "<table border=\"1\" class=\"dataframe\">\n",
              "  <thead>\n",
              "    <tr style=\"text-align: right;\">\n",
              "      <th></th>\n",
              "      <th>molecule_chembl_id</th>\n",
              "      <th>canonical_smiles</th>\n",
              "      <th>standard_value</th>\n",
              "      <th>class</th>\n",
              "    </tr>\n",
              "  </thead>\n",
              "  <tbody>\n",
              "    <tr>\n",
              "      <th>0</th>\n",
              "      <td>CHEMBL406146</td>\n",
              "      <td>CC(C)C[C@H](NC(=O)[C@@H](NC(=O)[C@@H](N)CCC(=O...</td>\n",
              "      <td>413.0</td>\n",
              "      <td>active</td>\n",
              "    </tr>\n",
              "    <tr>\n",
              "      <th>1</th>\n",
              "      <td>CHEMBL78946</td>\n",
              "      <td>CC(C)C[C@H](NC(=O)[C@H](CC(N)=O)NC(=O)[C@@H](N...</td>\n",
              "      <td>2.0</td>\n",
              "      <td>active</td>\n",
              "    </tr>\n",
              "    <tr>\n",
              "      <th>2</th>\n",
              "      <td>CHEMBL324109</td>\n",
              "      <td>CCC(C)C[C@H](NC(=O)[C@H](CC(C)C)NC(C)=O)[C@@H]...</td>\n",
              "      <td>460.0</td>\n",
              "      <td>active</td>\n",
              "    </tr>\n",
              "    <tr>\n",
              "      <th>3</th>\n",
              "      <td>CHEMBL114147</td>\n",
              "      <td>CC(=O)NCC(=O)N[C@@H](Cc1ccccc1)[C@@H](O)CC(=O)...</td>\n",
              "      <td>9000.0</td>\n",
              "      <td>inactive</td>\n",
              "    </tr>\n",
              "    <tr>\n",
              "      <th>4</th>\n",
              "      <td>CHEMBL419949</td>\n",
              "      <td>CC(=O)N[C@@H](Cc1ccccc1)C(=O)N[C@@H](Cc1ccccc1...</td>\n",
              "      <td>5600.0</td>\n",
              "      <td>inactive</td>\n",
              "    </tr>\n",
              "  </tbody>\n",
              "</table>\n",
              "</div>"
            ],
            "text/plain": [
              "  molecule_chembl_id                                   canonical_smiles  \\\n",
              "0       CHEMBL406146  CC(C)C[C@H](NC(=O)[C@@H](NC(=O)[C@@H](N)CCC(=O...   \n",
              "1        CHEMBL78946  CC(C)C[C@H](NC(=O)[C@H](CC(N)=O)NC(=O)[C@@H](N...   \n",
              "2       CHEMBL324109  CCC(C)C[C@H](NC(=O)[C@H](CC(C)C)NC(C)=O)[C@@H]...   \n",
              "3       CHEMBL114147  CC(=O)NCC(=O)N[C@@H](Cc1ccccc1)[C@@H](O)CC(=O)...   \n",
              "4       CHEMBL419949  CC(=O)N[C@@H](Cc1ccccc1)C(=O)N[C@@H](Cc1ccccc1...   \n",
              "\n",
              "   standard_value     class  \n",
              "0           413.0    active  \n",
              "1             2.0    active  \n",
              "2           460.0    active  \n",
              "3          9000.0  inactive  \n",
              "4          5600.0  inactive  "
            ]
          },
          "execution_count": 63,
          "metadata": {},
          "output_type": "execute_result"
        }
      ],
      "source": [
        "data.head()\n"
      ]
    },
    {
      "cell_type": "code",
      "execution_count": 64,
      "metadata": {
        "colab": {
          "base_uri": "https://localhost:8080/"
        },
        "id": "DvC1Ti7hazHS",
        "outputId": "0d10f80c-1134-4e7a-83a6-9c63ca077629"
      },
      "outputs": [
        {
          "data": {
            "text/plain": [
              "(7459, 4)"
            ]
          },
          "execution_count": 64,
          "metadata": {},
          "output_type": "execute_result"
        }
      ],
      "source": [
        "data.shape"
      ]
    },
    {
      "cell_type": "markdown",
      "metadata": {
        "id": "3dShXHrw9Lr-"
      },
      "source": [
        "Getting all RDKit molecular descriptor names and Function to compute molecular descriptors"
      ]
    },
    {
      "cell_type": "code",
      "execution_count": 65,
      "metadata": {
        "id": "3EArX0eZ9Jq5"
      },
      "outputs": [],
      "source": [
        "# descriptor_names = [desc[0] for desc in Descriptors.descList]\n",
        "\n",
        "# def compute_descriptors(smiles):\n",
        "#     mol = Chem.MolFromSmiles(smiles)\n",
        "#     if mol is None:\n",
        "#         print([0])\n",
        "#         return [0] * len(descriptor_names)  # Handle invalid molecules\n",
        "#     return [Descriptors.__dict__[name](mol) for name in descriptor_names]"
      ]
    },
    {
      "cell_type": "markdown",
      "metadata": {
        "id": "3D6S6lH0AOpJ"
      },
      "source": []
    },
    {
      "cell_type": "code",
      "execution_count": 66,
      "metadata": {
        "colab": {
          "base_uri": "https://localhost:8080/"
        },
        "id": "WUE1VjV0AUdR",
        "outputId": "9d2944c0-5728-42bb-ef11-b544106664f3"
      },
      "outputs": [
        {
          "name": "stdout",
          "output_type": "stream",
          "text": [
            "[0]\n",
            "217\n"
          ]
        }
      ],
      "source": [
        "print([0])\n",
        "descriptor_names = [desc[0] for desc in Descriptors.descList]\n",
        "print(len(descriptor_names))"
      ]
    },
    {
      "cell_type": "code",
      "execution_count": 67,
      "metadata": {
        "colab": {
          "base_uri": "https://localhost:8080/"
        },
        "id": "Nc2TS4uds_th",
        "outputId": "f997151b-c6c4-4dd9-c9e6-80d382785d2e"
      },
      "outputs": [
        {
          "data": {
            "text/plain": [
              "['MaxAbsEStateIndex',\n",
              " 'MaxEStateIndex',\n",
              " 'MinAbsEStateIndex',\n",
              " 'MinEStateIndex',\n",
              " 'qed',\n",
              " 'SPS',\n",
              " 'MolWt',\n",
              " 'HeavyAtomMolWt',\n",
              " 'ExactMolWt',\n",
              " 'NumValenceElectrons',\n",
              " 'NumRadicalElectrons',\n",
              " 'MaxPartialCharge',\n",
              " 'MinPartialCharge',\n",
              " 'MaxAbsPartialCharge',\n",
              " 'MinAbsPartialCharge',\n",
              " 'FpDensityMorgan1',\n",
              " 'FpDensityMorgan2',\n",
              " 'FpDensityMorgan3',\n",
              " 'BCUT2D_MWHI',\n",
              " 'BCUT2D_MWLOW',\n",
              " 'BCUT2D_CHGHI',\n",
              " 'BCUT2D_CHGLO',\n",
              " 'BCUT2D_LOGPHI',\n",
              " 'BCUT2D_LOGPLOW',\n",
              " 'BCUT2D_MRHI',\n",
              " 'BCUT2D_MRLOW',\n",
              " 'AvgIpc',\n",
              " 'BalabanJ',\n",
              " 'BertzCT',\n",
              " 'Chi0',\n",
              " 'Chi0n',\n",
              " 'Chi0v',\n",
              " 'Chi1',\n",
              " 'Chi1n',\n",
              " 'Chi1v',\n",
              " 'Chi2n',\n",
              " 'Chi2v',\n",
              " 'Chi3n',\n",
              " 'Chi3v',\n",
              " 'Chi4n',\n",
              " 'Chi4v',\n",
              " 'HallKierAlpha',\n",
              " 'Ipc',\n",
              " 'Kappa1',\n",
              " 'Kappa2',\n",
              " 'Kappa3',\n",
              " 'LabuteASA',\n",
              " 'PEOE_VSA1',\n",
              " 'PEOE_VSA10',\n",
              " 'PEOE_VSA11',\n",
              " 'PEOE_VSA12',\n",
              " 'PEOE_VSA13',\n",
              " 'PEOE_VSA14',\n",
              " 'PEOE_VSA2',\n",
              " 'PEOE_VSA3',\n",
              " 'PEOE_VSA4',\n",
              " 'PEOE_VSA5',\n",
              " 'PEOE_VSA6',\n",
              " 'PEOE_VSA7',\n",
              " 'PEOE_VSA8',\n",
              " 'PEOE_VSA9',\n",
              " 'SMR_VSA1',\n",
              " 'SMR_VSA10',\n",
              " 'SMR_VSA2',\n",
              " 'SMR_VSA3',\n",
              " 'SMR_VSA4',\n",
              " 'SMR_VSA5',\n",
              " 'SMR_VSA6',\n",
              " 'SMR_VSA7',\n",
              " 'SMR_VSA8',\n",
              " 'SMR_VSA9',\n",
              " 'SlogP_VSA1',\n",
              " 'SlogP_VSA10',\n",
              " 'SlogP_VSA11',\n",
              " 'SlogP_VSA12',\n",
              " 'SlogP_VSA2',\n",
              " 'SlogP_VSA3',\n",
              " 'SlogP_VSA4',\n",
              " 'SlogP_VSA5',\n",
              " 'SlogP_VSA6',\n",
              " 'SlogP_VSA7',\n",
              " 'SlogP_VSA8',\n",
              " 'SlogP_VSA9',\n",
              " 'TPSA',\n",
              " 'EState_VSA1',\n",
              " 'EState_VSA10',\n",
              " 'EState_VSA11',\n",
              " 'EState_VSA2',\n",
              " 'EState_VSA3',\n",
              " 'EState_VSA4',\n",
              " 'EState_VSA5',\n",
              " 'EState_VSA6',\n",
              " 'EState_VSA7',\n",
              " 'EState_VSA8',\n",
              " 'EState_VSA9',\n",
              " 'VSA_EState1',\n",
              " 'VSA_EState10',\n",
              " 'VSA_EState2',\n",
              " 'VSA_EState3',\n",
              " 'VSA_EState4',\n",
              " 'VSA_EState5',\n",
              " 'VSA_EState6',\n",
              " 'VSA_EState7',\n",
              " 'VSA_EState8',\n",
              " 'VSA_EState9',\n",
              " 'FractionCSP3',\n",
              " 'HeavyAtomCount',\n",
              " 'NHOHCount',\n",
              " 'NOCount',\n",
              " 'NumAliphaticCarbocycles',\n",
              " 'NumAliphaticHeterocycles',\n",
              " 'NumAliphaticRings',\n",
              " 'NumAmideBonds',\n",
              " 'NumAromaticCarbocycles',\n",
              " 'NumAromaticHeterocycles',\n",
              " 'NumAromaticRings',\n",
              " 'NumAtomStereoCenters',\n",
              " 'NumBridgeheadAtoms',\n",
              " 'NumHAcceptors',\n",
              " 'NumHDonors',\n",
              " 'NumHeteroatoms',\n",
              " 'NumHeterocycles',\n",
              " 'NumRotatableBonds',\n",
              " 'NumSaturatedCarbocycles',\n",
              " 'NumSaturatedHeterocycles',\n",
              " 'NumSaturatedRings',\n",
              " 'NumSpiroAtoms',\n",
              " 'NumUnspecifiedAtomStereoCenters',\n",
              " 'Phi',\n",
              " 'RingCount',\n",
              " 'MolLogP',\n",
              " 'MolMR',\n",
              " 'fr_Al_COO',\n",
              " 'fr_Al_OH',\n",
              " 'fr_Al_OH_noTert',\n",
              " 'fr_ArN',\n",
              " 'fr_Ar_COO',\n",
              " 'fr_Ar_N',\n",
              " 'fr_Ar_NH',\n",
              " 'fr_Ar_OH',\n",
              " 'fr_COO',\n",
              " 'fr_COO2',\n",
              " 'fr_C_O',\n",
              " 'fr_C_O_noCOO',\n",
              " 'fr_C_S',\n",
              " 'fr_HOCCN',\n",
              " 'fr_Imine',\n",
              " 'fr_NH0',\n",
              " 'fr_NH1',\n",
              " 'fr_NH2',\n",
              " 'fr_N_O',\n",
              " 'fr_Ndealkylation1',\n",
              " 'fr_Ndealkylation2',\n",
              " 'fr_Nhpyrrole',\n",
              " 'fr_SH',\n",
              " 'fr_aldehyde',\n",
              " 'fr_alkyl_carbamate',\n",
              " 'fr_alkyl_halide',\n",
              " 'fr_allylic_oxid',\n",
              " 'fr_amide',\n",
              " 'fr_amidine',\n",
              " 'fr_aniline',\n",
              " 'fr_aryl_methyl',\n",
              " 'fr_azide',\n",
              " 'fr_azo',\n",
              " 'fr_barbitur',\n",
              " 'fr_benzene',\n",
              " 'fr_benzodiazepine',\n",
              " 'fr_bicyclic',\n",
              " 'fr_diazo',\n",
              " 'fr_dihydropyridine',\n",
              " 'fr_epoxide',\n",
              " 'fr_ester',\n",
              " 'fr_ether',\n",
              " 'fr_furan',\n",
              " 'fr_guanido',\n",
              " 'fr_halogen',\n",
              " 'fr_hdrzine',\n",
              " 'fr_hdrzone',\n",
              " 'fr_imidazole',\n",
              " 'fr_imide',\n",
              " 'fr_isocyan',\n",
              " 'fr_isothiocyan',\n",
              " 'fr_ketone',\n",
              " 'fr_ketone_Topliss',\n",
              " 'fr_lactam',\n",
              " 'fr_lactone',\n",
              " 'fr_methoxy',\n",
              " 'fr_morpholine',\n",
              " 'fr_nitrile',\n",
              " 'fr_nitro',\n",
              " 'fr_nitro_arom',\n",
              " 'fr_nitro_arom_nonortho',\n",
              " 'fr_nitroso',\n",
              " 'fr_oxazole',\n",
              " 'fr_oxime',\n",
              " 'fr_para_hydroxylation',\n",
              " 'fr_phenol',\n",
              " 'fr_phenol_noOrthoHbond',\n",
              " 'fr_phos_acid',\n",
              " 'fr_phos_ester',\n",
              " 'fr_piperdine',\n",
              " 'fr_piperzine',\n",
              " 'fr_priamide',\n",
              " 'fr_prisulfonamd',\n",
              " 'fr_pyridine',\n",
              " 'fr_quatN',\n",
              " 'fr_sulfide',\n",
              " 'fr_sulfonamd',\n",
              " 'fr_sulfone',\n",
              " 'fr_term_acetylene',\n",
              " 'fr_tetrazole',\n",
              " 'fr_thiazole',\n",
              " 'fr_thiocyan',\n",
              " 'fr_thiophene',\n",
              " 'fr_unbrch_alkane',\n",
              " 'fr_urea']"
            ]
          },
          "execution_count": 67,
          "metadata": {},
          "output_type": "execute_result"
        }
      ],
      "source": [
        "descriptor_names"
      ]
    },
    {
      "cell_type": "code",
      "execution_count": 68,
      "metadata": {
        "colab": {
          "base_uri": "https://localhost:8080/"
        },
        "id": "A29-UXWuHdld",
        "outputId": "2b1aa571-2b37-4a2b-8273-b0bb94e529bc"
      },
      "outputs": [
        {
          "data": {
            "text/plain": [
              "Index(['molecule_chembl_id', 'canonical_smiles', 'standard_value', 'class'], dtype='object')"
            ]
          },
          "execution_count": 68,
          "metadata": {},
          "output_type": "execute_result"
        }
      ],
      "source": [
        "data.columns"
      ]
    },
    {
      "cell_type": "markdown",
      "metadata": {
        "id": "_O7pBv5NHnem"
      },
      "source": [
        "## Calculating Descriptor Using Mordred"
      ]
    },
    {
      "cell_type": "code",
      "execution_count": 69,
      "metadata": {
        "id": "_9AgzYNwWSRT"
      },
      "outputs": [],
      "source": [
        "from mordred import Calculator, descriptors\n",
        "\n",
        "mol_list = []\n",
        "\n",
        "for smile in data['canonical_smiles']:\n",
        "  mol = Chem.MolFromSmiles(smile)\n",
        "  mol = Chem.AddHs(mol)\n",
        "  mol_list.append(mol)\n",
        "\n",
        "df = pd.concat([data, pd.DataFrame(mol_list, columns = (['Mol']))], axis=1)"
      ]
    },
    {
      "cell_type": "code",
      "execution_count": 70,
      "metadata": {
        "colab": {
          "base_uri": "https://localhost:8080/",
          "height": 206
        },
        "id": "r9T1UNGPWvB2",
        "outputId": "414839cf-ebbf-4ac0-90c2-cb9fc9a66289"
      },
      "outputs": [
        {
          "data": {
            "text/html": [
              "<div>\n",
              "<style scoped>\n",
              "    .dataframe tbody tr th:only-of-type {\n",
              "        vertical-align: middle;\n",
              "    }\n",
              "\n",
              "    .dataframe tbody tr th {\n",
              "        vertical-align: top;\n",
              "    }\n",
              "\n",
              "    .dataframe thead th {\n",
              "        text-align: right;\n",
              "    }\n",
              "</style>\n",
              "<table border=\"1\" class=\"dataframe\">\n",
              "  <thead>\n",
              "    <tr style=\"text-align: right;\">\n",
              "      <th></th>\n",
              "      <th>molecule_chembl_id</th>\n",
              "      <th>canonical_smiles</th>\n",
              "      <th>standard_value</th>\n",
              "      <th>class</th>\n",
              "      <th>Mol</th>\n",
              "    </tr>\n",
              "  </thead>\n",
              "  <tbody>\n",
              "    <tr>\n",
              "      <th>0</th>\n",
              "      <td>CHEMBL406146</td>\n",
              "      <td>CC(C)C[C@H](NC(=O)[C@@H](NC(=O)[C@@H](N)CCC(=O...</td>\n",
              "      <td>413.0</td>\n",
              "      <td>active</td>\n",
              "      <td>&lt;rdkit.Chem.rdchem.Mol object at 0x787ff259c820&gt;</td>\n",
              "    </tr>\n",
              "    <tr>\n",
              "      <th>1</th>\n",
              "      <td>CHEMBL78946</td>\n",
              "      <td>CC(C)C[C@H](NC(=O)[C@H](CC(N)=O)NC(=O)[C@@H](N...</td>\n",
              "      <td>2.0</td>\n",
              "      <td>active</td>\n",
              "      <td>&lt;rdkit.Chem.rdchem.Mol object at 0x787ff259c660&gt;</td>\n",
              "    </tr>\n",
              "    <tr>\n",
              "      <th>2</th>\n",
              "      <td>CHEMBL324109</td>\n",
              "      <td>CCC(C)C[C@H](NC(=O)[C@H](CC(C)C)NC(C)=O)[C@@H]...</td>\n",
              "      <td>460.0</td>\n",
              "      <td>active</td>\n",
              "      <td>&lt;rdkit.Chem.rdchem.Mol object at 0x787ff259c6d0&gt;</td>\n",
              "    </tr>\n",
              "    <tr>\n",
              "      <th>3</th>\n",
              "      <td>CHEMBL114147</td>\n",
              "      <td>CC(=O)NCC(=O)N[C@@H](Cc1ccccc1)[C@@H](O)CC(=O)...</td>\n",
              "      <td>9000.0</td>\n",
              "      <td>inactive</td>\n",
              "      <td>&lt;rdkit.Chem.rdchem.Mol object at 0x787ff259c740&gt;</td>\n",
              "    </tr>\n",
              "    <tr>\n",
              "      <th>4</th>\n",
              "      <td>CHEMBL419949</td>\n",
              "      <td>CC(=O)N[C@@H](Cc1ccccc1)C(=O)N[C@@H](Cc1ccccc1...</td>\n",
              "      <td>5600.0</td>\n",
              "      <td>inactive</td>\n",
              "      <td>&lt;rdkit.Chem.rdchem.Mol object at 0x787ff259c7b0&gt;</td>\n",
              "    </tr>\n",
              "  </tbody>\n",
              "</table>\n",
              "</div>"
            ],
            "text/plain": [
              "  molecule_chembl_id                                   canonical_smiles  \\\n",
              "0       CHEMBL406146  CC(C)C[C@H](NC(=O)[C@@H](NC(=O)[C@@H](N)CCC(=O...   \n",
              "1        CHEMBL78946  CC(C)C[C@H](NC(=O)[C@H](CC(N)=O)NC(=O)[C@@H](N...   \n",
              "2       CHEMBL324109  CCC(C)C[C@H](NC(=O)[C@H](CC(C)C)NC(C)=O)[C@@H]...   \n",
              "3       CHEMBL114147  CC(=O)NCC(=O)N[C@@H](Cc1ccccc1)[C@@H](O)CC(=O)...   \n",
              "4       CHEMBL419949  CC(=O)N[C@@H](Cc1ccccc1)C(=O)N[C@@H](Cc1ccccc1...   \n",
              "\n",
              "   standard_value     class                                               Mol  \n",
              "0           413.0    active  <rdkit.Chem.rdchem.Mol object at 0x787ff259c820>  \n",
              "1             2.0    active  <rdkit.Chem.rdchem.Mol object at 0x787ff259c660>  \n",
              "2           460.0    active  <rdkit.Chem.rdchem.Mol object at 0x787ff259c6d0>  \n",
              "3          9000.0  inactive  <rdkit.Chem.rdchem.Mol object at 0x787ff259c740>  \n",
              "4          5600.0  inactive  <rdkit.Chem.rdchem.Mol object at 0x787ff259c7b0>  "
            ]
          },
          "execution_count": 70,
          "metadata": {},
          "output_type": "execute_result"
        }
      ],
      "source": [
        "df.head()\n"
      ]
    },
    {
      "cell_type": "code",
      "execution_count": 71,
      "metadata": {
        "colab": {
          "base_uri": "https://localhost:8080/",
          "height": 417
        },
        "id": "f1U-7C-zW0pf",
        "outputId": "d31ad8f4-5258-4e9b-cdd5-0dda8092b4ec"
      },
      "outputs": [
        {
          "data": {
            "image/png": "[encoded data removed]",
            "text/plain": [
              "<IPython.core.display.Image object>"
            ]
          },
          "execution_count": 71,
          "metadata": {},
          "output_type": "execute_result"
        }
      ],
      "source": [
        "\n",
        "Draw.MolsToGridImage(df['Mol'][:12],molsPerRow=4,subImgSize=(200,200),legends=[x for x in df['molecule_chembl_id'][:12]])\n"
      ]
    },
    {
      "cell_type": "code",
      "execution_count": 72,
      "metadata": {
        "id": "W0taPT0oXfOd"
      },
      "outputs": [],
      "source": [
        "# Creating a descriptor calculator with all descriptors\n",
        "calc = Calculator(descriptors, ignore_3D=True)"
      ]
    },
    {
      "cell_type": "code",
      "execution_count": 73,
      "metadata": {
        "colab": {
          "base_uri": "https://localhost:8080/"
        },
        "id": "BLWhEgprXiR7",
        "outputId": "4d2ebe2b-58df-4908-ce75-5c61e1c5f95b"
      },
      "outputs": [
        {
          "data": {
            "text/plain": [
              "<mordred._base.calculator.Calculator at 0x78802889fae0>"
            ]
          },
          "execution_count": 73,
          "metadata": {},
          "output_type": "execute_result"
        }
      ],
      "source": [
        "calc\n"
      ]
    },
    {
      "cell_type": "code",
      "execution_count": 74,
      "metadata": {
        "colab": {
          "base_uri": "https://localhost:8080/"
        },
        "id": "xJyHQYtLXjdB",
        "outputId": "13f719ef-4110-4680-8f69-22bfc249d33b"
      },
      "outputs": [
        {
          "name": "stdout",
          "output_type": "stream",
          "text": [
            "(mordred.ABCIndex.ABCIndex(), mordred.ABCIndex.ABCGGIndex(), mordred.AcidBase.AcidicGroupCount(), mordred.AcidBase.BasicGroupCount(), mordred.AdjacencyMatrix.AdjacencyMatrix('SpAbs'))\n"
          ]
        }
      ],
      "source": [
        "# calc.descriptors contains all the descriptor classes\n",
        "print(calc.descriptors[:5])"
      ]
    },
    {
      "cell_type": "code",
      "execution_count": 75,
      "metadata": {
        "colab": {
          "base_uri": "https://localhost:8080/"
        },
        "id": "q4yedlXIXmbC",
        "outputId": "b6ba9c2d-f467-4c69-925c-b21934e60139"
      },
      "outputs": [
        {
          "name": "stdout",
          "output_type": "stream",
          "text": [
            "['ABCIndex', 'ABCGGIndex', 'AcidicGroupCount', 'BasicGroupCount', 'AdjacencyMatrix', 'AdjacencyMatrix', 'AdjacencyMatrix', 'AdjacencyMatrix', 'AdjacencyMatrix', 'AdjacencyMatrix', 'AdjacencyMatrix', 'AdjacencyMatrix', 'AdjacencyMatrix', 'AdjacencyMatrix', 'AdjacencyMatrix', 'AdjacencyMatrix', 'AromaticAtomsCount', 'AromaticBondsCount', 'AtomCount', 'AtomCount']\n"
          ]
        }
      ],
      "source": [
        "# print the names of descriptors\n",
        "all_descriptor_names = [desc.__class__.__name__ for desc in calc.descriptors]\n",
        "print(all_descriptor_names[:20])"
      ]
    },
    {
      "cell_type": "code",
      "execution_count": 76,
      "metadata": {
        "colab": {
          "base_uri": "https://localhost:8080/"
        },
        "id": "NXGH5LppXs2C",
        "outputId": "5334615c-de81-4fa0-8083-7a31da5949c3"
      },
      "outputs": [
        {
          "data": {
            "text/plain": [
              "1613"
            ]
          },
          "execution_count": 76,
          "metadata": {},
          "output_type": "execute_result"
        }
      ],
      "source": [
        "# Checking the length of descriptors in the calculator\n",
        "len(all_descriptor_names)"
      ]
    },
    {
      "cell_type": "code",
      "execution_count": null,
      "metadata": {
        "colab": {
          "base_uri": "https://localhost:8080/"
        },
        "id": "wobF1bSuYEex",
        "outputId": "d958f29f-9d54-4536-db02-8c0cdb11c7f3"
      },
      "outputs": [],
      "source": [
        "all_desc = calc.pandas(df['Mol'])"
      ]
    },
    {
      "cell_type": "code",
      "execution_count": 57,
      "metadata": {
        "colab": {
          "base_uri": "https://localhost:8080/",
          "height": 236
        },
        "id": "tqJm1fKpYGJW",
        "outputId": "98fd0ed5-79d0-402a-87ee-490fab8998e3"
      },
      "outputs": [
        {
          "data": {
            "text/html": [
              "<div>\n",
              "<style scoped>\n",
              "    .dataframe tbody tr th:only-of-type {\n",
              "        vertical-align: middle;\n",
              "    }\n",
              "\n",
              "    .dataframe tbody tr th {\n",
              "        vertical-align: top;\n",
              "    }\n",
              "\n",
              "    .dataframe thead th {\n",
              "        text-align: right;\n",
              "    }\n",
              "</style>\n",
              "<table border=\"1\" class=\"dataframe\">\n",
              "  <thead>\n",
              "    <tr style=\"text-align: right;\">\n",
              "      <th></th>\n",
              "      <th>ABC</th>\n",
              "      <th>ABCGG</th>\n",
              "      <th>nAcid</th>\n",
              "      <th>nBase</th>\n",
              "      <th>SpAbs_A</th>\n",
              "      <th>SpMax_A</th>\n",
              "      <th>SpDiam_A</th>\n",
              "      <th>SpAD_A</th>\n",
              "      <th>SpMAD_A</th>\n",
              "      <th>LogEE_A</th>\n",
              "      <th>...</th>\n",
              "      <th>SRW10</th>\n",
              "      <th>TSRW10</th>\n",
              "      <th>MW</th>\n",
              "      <th>AMW</th>\n",
              "      <th>WPath</th>\n",
              "      <th>WPol</th>\n",
              "      <th>Zagreb1</th>\n",
              "      <th>Zagreb2</th>\n",
              "      <th>mZagreb1</th>\n",
              "      <th>mZagreb2</th>\n",
              "    </tr>\n",
              "  </thead>\n",
              "  <tbody>\n",
              "    <tr>\n",
              "      <th>0</th>\n",
              "      <td>52.913863</td>\n",
              "      <td>42.915511</td>\n",
              "      <td>4</td>\n",
              "      <td>1</td>\n",
              "      <td>84.986268</td>\n",
              "      <td>2.357398</td>\n",
              "      <td>4.714795</td>\n",
              "      <td>84.986268</td>\n",
              "      <td>1.19699</td>\n",
              "      <td>5.133486</td>\n",
              "      <td>...</td>\n",
              "      <td>10.820278</td>\n",
              "      <td>110.064076</td>\n",
              "      <td>998.459678</td>\n",
              "      <td>7.288027</td>\n",
              "      <td>28854</td>\n",
              "      <td>104</td>\n",
              "      <td>338.0</td>\n",
              "      <td>376.0</td>\n",
              "      <td>30.916667</td>\n",
              "      <td>15.944444</td>\n",
              "    </tr>\n",
              "    <tr>\n",
              "      <th>1</th>\n",
              "      <td>46.590342</td>\n",
              "      <td>38.520706</td>\n",
              "      <td>3</td>\n",
              "      <td>1</td>\n",
              "      <td>74.01907</td>\n",
              "      <td>2.337816</td>\n",
              "      <td>4.675632</td>\n",
              "      <td>74.01907</td>\n",
              "      <td>1.174906</td>\n",
              "      <td>5.006706</td>\n",
              "      <td>...</td>\n",
              "      <td>10.667023</td>\n",
              "      <td>101.362551</td>\n",
              "      <td>892.454199</td>\n",
              "      <td>7.027198</td>\n",
              "      <td>22054</td>\n",
              "      <td>91</td>\n",
              "      <td>296.0</td>\n",
              "      <td>327.0</td>\n",
              "      <td>29.194444</td>\n",
              "      <td>14.166667</td>\n",
              "    </tr>\n",
              "    <tr>\n",
              "      <th>2</th>\n",
              "      <td>38.167759</td>\n",
              "      <td>31.380885</td>\n",
              "      <td>1</td>\n",
              "      <td>0</td>\n",
              "      <td>61.659032</td>\n",
              "      <td>2.315876</td>\n",
              "      <td>4.631753</td>\n",
              "      <td>61.659032</td>\n",
              "      <td>1.185751</td>\n",
              "      <td>4.814306</td>\n",
              "      <td>...</td>\n",
              "      <td>10.458665</td>\n",
              "      <td>89.340175</td>\n",
              "      <td>751.419000</td>\n",
              "      <td>6.649726</td>\n",
              "      <td>13123</td>\n",
              "      <td>74</td>\n",
              "      <td>242.0</td>\n",
              "      <td>267.0</td>\n",
              "      <td>23.388889</td>\n",
              "      <td>11.916667</td>\n",
              "    </tr>\n",
              "    <tr>\n",
              "      <th>3</th>\n",
              "      <td>40.001350</td>\n",
              "      <td>30.729173</td>\n",
              "      <td>1</td>\n",
              "      <td>0</td>\n",
              "      <td>65.429866</td>\n",
              "      <td>2.323173</td>\n",
              "      <td>4.646345</td>\n",
              "      <td>65.429866</td>\n",
              "      <td>1.234526</td>\n",
              "      <td>4.8547</td>\n",
              "      <td>...</td>\n",
              "      <td>10.531856</td>\n",
              "      <td>90.661269</td>\n",
              "      <td>737.399978</td>\n",
              "      <td>6.827778</td>\n",
              "      <td>13440</td>\n",
              "      <td>75</td>\n",
              "      <td>256.0</td>\n",
              "      <td>285.0</td>\n",
              "      <td>20.027778</td>\n",
              "      <td>11.888889</td>\n",
              "    </tr>\n",
              "    <tr>\n",
              "      <th>4</th>\n",
              "      <td>45.617764</td>\n",
              "      <td>34.511984</td>\n",
              "      <td>1</td>\n",
              "      <td>0</td>\n",
              "      <td>74.831685</td>\n",
              "      <td>2.33544</td>\n",
              "      <td>4.67088</td>\n",
              "      <td>74.831685</td>\n",
              "      <td>1.247195</td>\n",
              "      <td>4.985373</td>\n",
              "      <td>...</td>\n",
              "      <td>10.699124</td>\n",
              "      <td>98.407890</td>\n",
              "      <td>827.446929</td>\n",
              "      <td>6.838404</td>\n",
              "      <td>18407</td>\n",
              "      <td>87</td>\n",
              "      <td>294.0</td>\n",
              "      <td>330.0</td>\n",
              "      <td>21.5</td>\n",
              "      <td>13.416667</td>\n",
              "    </tr>\n",
              "    <tr>\n",
              "      <th>5</th>\n",
              "      <td>39.093645</td>\n",
              "      <td>32.103470</td>\n",
              "      <td>1</td>\n",
              "      <td>0</td>\n",
              "      <td>62.396469</td>\n",
              "      <td>2.316859</td>\n",
              "      <td>4.633718</td>\n",
              "      <td>62.396469</td>\n",
              "      <td>1.177292</td>\n",
              "      <td>4.834247</td>\n",
              "      <td>...</td>\n",
              "      <td>10.480859</td>\n",
              "      <td>90.459140</td>\n",
              "      <td>767.413914</td>\n",
              "      <td>6.731701</td>\n",
              "      <td>13668</td>\n",
              "      <td>75</td>\n",
              "      <td>248.0</td>\n",
              "      <td>273.0</td>\n",
              "      <td>24.25</td>\n",
              "      <td>12.000000</td>\n",
              "    </tr>\n",
              "    <tr>\n",
              "      <th>6</th>\n",
              "      <td>39.948979</td>\n",
              "      <td>31.253555</td>\n",
              "      <td>2</td>\n",
              "      <td>0</td>\n",
              "      <td>64.272272</td>\n",
              "      <td>2.402521</td>\n",
              "      <td>4.805041</td>\n",
              "      <td>64.272272</td>\n",
              "      <td>1.236005</td>\n",
              "      <td>4.854123</td>\n",
              "      <td>...</td>\n",
              "      <td>10.748519</td>\n",
              "      <td>90.157534</td>\n",
              "      <td>717.249786</td>\n",
              "      <td>8.058986</td>\n",
              "      <td>11793</td>\n",
              "      <td>83</td>\n",
              "      <td>264.0</td>\n",
              "      <td>304.0</td>\n",
              "      <td>20.111111</td>\n",
              "      <td>11.416667</td>\n",
              "    </tr>\n",
              "    <tr>\n",
              "      <th>7</th>\n",
              "      <td>40.996186</td>\n",
              "      <td>32.847953</td>\n",
              "      <td>1</td>\n",
              "      <td>0</td>\n",
              "      <td>66.095102</td>\n",
              "      <td>2.325627</td>\n",
              "      <td>4.651253</td>\n",
              "      <td>66.095102</td>\n",
              "      <td>1.201729</td>\n",
              "      <td>4.881479</td>\n",
              "      <td>...</td>\n",
              "      <td>10.561085</td>\n",
              "      <td>92.784459</td>\n",
              "      <td>767.446929</td>\n",
              "      <td>6.615922</td>\n",
              "      <td>14766</td>\n",
              "      <td>79</td>\n",
              "      <td>262.0</td>\n",
              "      <td>291.0</td>\n",
              "      <td>23.25</td>\n",
              "      <td>12.416667</td>\n",
              "    </tr>\n",
              "    <tr>\n",
              "      <th>8</th>\n",
              "      <td>45.664455</td>\n",
              "      <td>38.037591</td>\n",
              "      <td>2</td>\n",
              "      <td>0</td>\n",
              "      <td>73.121471</td>\n",
              "      <td>2.332258</td>\n",
              "      <td>4.664517</td>\n",
              "      <td>73.121471</td>\n",
              "      <td>1.179379</td>\n",
              "      <td>4.989955</td>\n",
              "      <td>...</td>\n",
              "      <td>10.655729</td>\n",
              "      <td>100.273284</td>\n",
              "      <td>893.456842</td>\n",
              "      <td>6.926022</td>\n",
              "      <td>20917</td>\n",
              "      <td>90</td>\n",
              "      <td>290.0</td>\n",
              "      <td>321.0</td>\n",
              "      <td>28.333333</td>\n",
              "      <td>14.083333</td>\n",
              "    </tr>\n",
              "    <tr>\n",
              "      <th>9</th>\n",
              "      <td>43.008117</td>\n",
              "      <td>33.445037</td>\n",
              "      <td>1</td>\n",
              "      <td>0</td>\n",
              "      <td>69.60563</td>\n",
              "      <td>2.331172</td>\n",
              "      <td>4.662345</td>\n",
              "      <td>69.60563</td>\n",
              "      <td>1.221151</td>\n",
              "      <td>4.926508</td>\n",
              "      <td>...</td>\n",
              "      <td>10.625927</td>\n",
              "      <td>95.070348</td>\n",
              "      <td>793.462579</td>\n",
              "      <td>6.612188</td>\n",
              "      <td>16074</td>\n",
              "      <td>82</td>\n",
              "      <td>276.0</td>\n",
              "      <td>308.0</td>\n",
              "      <td>22.25</td>\n",
              "      <td>12.750000</td>\n",
              "    </tr>\n",
              "    <tr>\n",
              "      <th>10</th>\n",
              "      <td>85.015718</td>\n",
              "      <td>68.106638</td>\n",
              "      <td>5</td>\n",
              "      <td>2</td>\n",
              "      <td>138.744005</td>\n",
              "      <td>2.355837</td>\n",
              "      <td>4.711674</td>\n",
              "      <td>138.744005</td>\n",
              "      <td>1.196069</td>\n",
              "      <td>5.613103</td>\n",
              "      <td>...</td>\n",
              "      <td>11.291318</td>\n",
              "      <td>157.415311</td>\n",
              "      <td>1667.832790</td>\n",
              "      <td>7.037269</td>\n",
              "      <td>119694</td>\n",
              "      <td>175</td>\n",
              "      <td>542.0</td>\n",
              "      <td>604.0</td>\n",
              "      <td>52.833333</td>\n",
              "      <td>26.666667</td>\n",
              "    </tr>\n",
              "    <tr>\n",
              "      <th>11</th>\n",
              "      <td>25.374964</td>\n",
              "      <td>15.923291</td>\n",
              "      <td>0</td>\n",
              "      <td>1</td>\n",
              "      <td>43.845993</td>\n",
              "      <td>2.385255</td>\n",
              "      <td>4.77051</td>\n",
              "      <td>43.845993</td>\n",
              "      <td>1.370187</td>\n",
              "      <td>4.404065</td>\n",
              "      <td>...</td>\n",
              "      <td>10.263711</td>\n",
              "      <td>67.850914</td>\n",
              "      <td>425.271865</td>\n",
              "      <td>6.347341</td>\n",
              "      <td>3780</td>\n",
              "      <td>47</td>\n",
              "      <td>168.0</td>\n",
              "      <td>194.0</td>\n",
              "      <td>6.888889</td>\n",
              "      <td>7.055556</td>\n",
              "    </tr>\n",
              "  </tbody>\n",
              "</table>\n",
              "<p>12 rows × 1613 columns</p>\n",
              "</div>"
            ],
            "text/plain": [
              "          ABC      ABCGG  nAcid  nBase     SpAbs_A   SpMax_A  SpDiam_A  \\\n",
              "0   52.913863  42.915511      4      1   84.986268  2.357398  4.714795   \n",
              "1   46.590342  38.520706      3      1    74.01907  2.337816  4.675632   \n",
              "2   38.167759  31.380885      1      0   61.659032  2.315876  4.631753   \n",
              "3   40.001350  30.729173      1      0   65.429866  2.323173  4.646345   \n",
              "4   45.617764  34.511984      1      0   74.831685   2.33544   4.67088   \n",
              "5   39.093645  32.103470      1      0   62.396469  2.316859  4.633718   \n",
              "6   39.948979  31.253555      2      0   64.272272  2.402521  4.805041   \n",
              "7   40.996186  32.847953      1      0   66.095102  2.325627  4.651253   \n",
              "8   45.664455  38.037591      2      0   73.121471  2.332258  4.664517   \n",
              "9   43.008117  33.445037      1      0    69.60563  2.331172  4.662345   \n",
              "10  85.015718  68.106638      5      2  138.744005  2.355837  4.711674   \n",
              "11  25.374964  15.923291      0      1   43.845993  2.385255   4.77051   \n",
              "\n",
              "        SpAD_A   SpMAD_A   LogEE_A  ...      SRW10      TSRW10           MW  \\\n",
              "0    84.986268   1.19699  5.133486  ...  10.820278  110.064076   998.459678   \n",
              "1     74.01907  1.174906  5.006706  ...  10.667023  101.362551   892.454199   \n",
              "2    61.659032  1.185751  4.814306  ...  10.458665   89.340175   751.419000   \n",
              "3    65.429866  1.234526    4.8547  ...  10.531856   90.661269   737.399978   \n",
              "4    74.831685  1.247195  4.985373  ...  10.699124   98.407890   827.446929   \n",
              "5    62.396469  1.177292  4.834247  ...  10.480859   90.459140   767.413914   \n",
              "6    64.272272  1.236005  4.854123  ...  10.748519   90.157534   717.249786   \n",
              "7    66.095102  1.201729  4.881479  ...  10.561085   92.784459   767.446929   \n",
              "8    73.121471  1.179379  4.989955  ...  10.655729  100.273284   893.456842   \n",
              "9     69.60563  1.221151  4.926508  ...  10.625927   95.070348   793.462579   \n",
              "10  138.744005  1.196069  5.613103  ...  11.291318  157.415311  1667.832790   \n",
              "11   43.845993  1.370187  4.404065  ...  10.263711   67.850914   425.271865   \n",
              "\n",
              "         AMW   WPath WPol  Zagreb1  Zagreb2   mZagreb1   mZagreb2  \n",
              "0   7.288027   28854  104    338.0    376.0  30.916667  15.944444  \n",
              "1   7.027198   22054   91    296.0    327.0  29.194444  14.166667  \n",
              "2   6.649726   13123   74    242.0    267.0  23.388889  11.916667  \n",
              "3   6.827778   13440   75    256.0    285.0  20.027778  11.888889  \n",
              "4   6.838404   18407   87    294.0    330.0       21.5  13.416667  \n",
              "5   6.731701   13668   75    248.0    273.0      24.25  12.000000  \n",
              "6   8.058986   11793   83    264.0    304.0  20.111111  11.416667  \n",
              "7   6.615922   14766   79    262.0    291.0      23.25  12.416667  \n",
              "8   6.926022   20917   90    290.0    321.0  28.333333  14.083333  \n",
              "9   6.612188   16074   82    276.0    308.0      22.25  12.750000  \n",
              "10  7.037269  119694  175    542.0    604.0  52.833333  26.666667  \n",
              "11  6.347341    3780   47    168.0    194.0   6.888889   7.055556  \n",
              "\n",
              "[12 rows x 1613 columns]"
            ]
          },
          "execution_count": 57,
          "metadata": {},
          "output_type": "execute_result"
        }
      ],
      "source": [
        "all_desc.head(12)"
      ]
    },
    {
      "cell_type": "code",
      "execution_count": 52,
      "metadata": {
        "id": "bxrIAU6lbMNz"
      },
      "outputs": [],
      "source": [
        "all_desc.to_csv('BACE1_All_Descriptors.csv', index=False)"
      ]
    },
    {
      "cell_type": "code",
      "execution_count": 55,
      "metadata": {
        "id": "iMmgYm5kd75C"
      },
      "outputs": [],
      "source": [
        "df_merged = pd.concat([data, all_desc], axis=1, ignore_index=False)\n"
      ]
    },
    {
      "cell_type": "code",
      "execution_count": 56,
      "metadata": {
        "id": "DiP70IxleCXW"
      },
      "outputs": [],
      "source": [
        "df_merged.to_csv('BACE1_Merged_Data_and_Descriptors.csv', index=False)\n"
      ]
    },
    {
      "cell_type": "code",
      "execution_count": 14,
      "metadata": {
        "id": "l3UKrqaeryAj"
      },
      "outputs": [],
      "source": [
        "# from mordred import Calculator, descriptors\n",
        "\n",
        "# mol_list = []\n",
        "\n",
        "# calc = Calculator(descriptors, ignore_3D=True)\n",
        "\n",
        "# def compute_mordred_descriptors(smiles):\n",
        "#     mol = Chem.MolFromSmiles(smiles)\n",
        "#     mol = Chem.AddHs(mol)\n",
        "#     mol_list.append(mol)\n",
        "\n",
        "#     if mol is None:\n",
        "#         return None\n",
        "#             # Handle invalid molecules\n",
        "#     m = calc(mol)\n",
        "#     print(m)\n",
        "#     return m"
      ]
    },
    {
      "cell_type": "code",
      "execution_count": 27,
      "metadata": {
        "colab": {
          "base_uri": "https://localhost:8080/"
        },
        "id": "YBp0CmR9SI6u",
        "outputId": "97f69275-a6ba-481a-a9b5-0e0f8934e764"
      },
      "outputs": [
        {
          "name": "stdout",
          "output_type": "stream",
          "text": [
            "object\n"
          ]
        }
      ],
      "source": [
        "print(data[\"canonical_smiles\"].dtype)"
      ]
    },
    {
      "cell_type": "code",
      "execution_count": 97,
      "metadata": {},
      "outputs": [
        {
          "name": "stderr",
          "output_type": "stream",
          "text": [
            "/tmp/ipykernel_2991605/3218517920.py:1: DtypeWarning: Columns (4,5,6,7,8,9,10,11,12,13,14,15,53,54,55,56,57,58,59,60,61,141,142,150,151,152,153,154,155,156,157,158,159,160,168,169,177,178,186,187,195,196,204,205,213,214,222,223,231,232,233,234,235,236,237,238,239,240,241,260,261,262,263,264,265,266,267,268,341,342,343,344,345,346,347,348,349,357,358,366,367,368,369,370,371,372,373,374,375,376,384,385,393,394,402,403,411,412,420,421,429,430,438,439,447,448,449,450,451,452,453,454,455,456,463,464,471,472,473,474,475,476,477,478,479,480,487,488,495,496,503,504,511,512,519,520,527,528,535,536,543,544,545,546,547,548,549,550,551,552,559,560,567,568,569,570,571,572,573,574,575,576,583,584,591,592,599,600,607,608,615,616,623,624,631,632,639,640,641,642,643,644,645,646,647,648,649,650,651,652,653,654,655,656,657,658,659,660,661,662,663,664,666,667,668,669,670,671,672,673,674,675,676,677,678,679,680,681,682,683,684,685,686,687,688,689,690,691,692,693,694,695,696,697,698,699,700,701,702,703,704,705,706,707,708,709,710,711,712,713,714,715,716,717,718,719,720,721,722,723,724,725,726,727,728,729,730,731,732,733,734,735,736,737,738,739,740,741,742,743,744,745,746,747,748,749,750,751,752,753,754,755,756,757,758,759,760,761,762,763,764,765,766,767,768,769,780,781,817,825,832,833,841,848,879,880,881,882,883,884,885,886,887,888,889,890,1057,1060,1064,1065,1067,1136,1139,1143,1144,1146,1208,1209,1210,1211,1212,1213,1214,1215,1216,1217,1218,1219,1220,1221,1222,1223,1224,1225,1226,1227,1228,1229,1230,1231,1232,1233,1234,1235,1236,1237,1238,1239,1240,1241,1242,1243,1244,1245,1246,1247,1248,1249,1250,1251,1252,1363,1365,1367,1378,1379,1380,1381,1382,1383,1384,1385,1386,1387,1388,1389,1582,1611) have mixed types. Specify dtype option on import or set low_memory=False.\n",
            "  all_desc = pd.read_csv(\"/home/bio/Bio thesis cse20/CD-232/Drug-Discovery-main/BACE1_All_Descriptors.csv\")\n"
          ]
        }
      ],
      "source": [
        "all_desc = pd.read_csv(\"/home/bio/Bio thesis cse20/CD-232/Drug-Discovery-main/BACE1_All_Descriptors.csv\")"
      ]
    },
    {
      "cell_type": "code",
      "execution_count": 98,
      "metadata": {
        "colab": {
          "base_uri": "https://localhost:8080/"
        },
        "id": "TBwnjI6S8LOe",
        "outputId": "c0284130-10e0-4f44-ca4e-03d1602d3f5e"
      },
      "outputs": [
        {
          "name": "stdout",
          "output_type": "stream",
          "text": [
            "               ABC        ABCGG        nAcid        nBase    nAromAtom  \\\n",
            "count  7459.000000  7459.000000  7459.000000  7459.000000  7459.000000   \n",
            "mean     25.928064    20.337453     0.109130     1.614291    13.750637   \n",
            "std       7.865126     5.956283     0.526219     1.030594     5.389871   \n",
            "min       5.875634     5.525875     0.000000     0.000000     0.000000   \n",
            "25%      21.735933    17.366659     0.000000     1.000000    12.000000   \n",
            "50%      24.587803    19.389858     0.000000     2.000000    12.000000   \n",
            "75%      28.381731    21.729403     0.000000     2.000000    18.000000   \n",
            "max     166.444603   113.447308     7.000000     8.000000    47.000000   \n",
            "\n",
            "         nAromBond        nAtom   nHeavyAtom       nSpiro  nBridgehead  ...  \\\n",
            "count  7459.000000  7459.000000  7459.000000  7459.000000  7459.000000  ...   \n",
            "mean     13.892479    60.031103    33.178040     0.374983     0.086741  ...   \n",
            "std       5.545126    23.268020    10.662247     0.737111     0.560963  ...   \n",
            "min       0.000000    15.000000     8.000000     0.000000     0.000000  ...   \n",
            "25%      12.000000    46.000000    28.000000     0.000000     0.000000  ...   \n",
            "50%      12.000000    53.000000    31.000000     0.000000     0.000000  ...   \n",
            "75%      18.000000    69.000000    36.000000     0.000000     0.000000  ...   \n",
            "max      47.000000   434.000000   219.000000     3.000000     6.000000  ...   \n",
            "\n",
            "             SRW09        SRW10       TSRW10           MW          AMW  \\\n",
            "count  7459.000000  7459.000000  7459.000000  7459.000000  7459.000000   \n",
            "mean      4.365547    10.502809    79.006012   469.572676     8.027109   \n",
            "std       3.626196     0.284952    13.045472   150.405904     1.090487   \n",
            "min       0.000000     8.272571    35.730685   126.031694     5.394891   \n",
            "25%       0.000000    10.358346    70.992116   391.141202     7.163270   \n",
            "50%       6.629363    10.532336    80.024169   440.146011     7.866108   \n",
            "75%       7.401842    10.689556    85.911189   513.067176     8.757985   \n",
            "max       8.966611    12.213510   282.885172  3050.605836    15.375223   \n",
            "\n",
            "              WPath         WPol      Zagreb1      Zagreb2     mZagreb2  \n",
            "count  7.459000e+03  7459.000000  7459.000000  7459.000000  7459.000000  \n",
            "mean   2.182108e+08    55.570720   176.885910   210.008580     7.220739  \n",
            "std    2.104332e+09    16.539118    50.091129    56.551362     2.438781  \n",
            "min    6.200000e+01     7.000000    36.000000    38.000000     1.833333  \n",
            "25%    1.928000e+03    47.000000   150.000000   180.000000     5.930556  \n",
            "50%    2.706000e+03    55.000000   172.000000   206.000000     6.715278  \n",
            "75%    4.432000e+03    62.000000   194.000000   232.000000     7.888889  \n",
            "max    3.500001e+10   361.000000  1100.000000  1277.000000    49.236111  \n",
            "\n",
            "[8 rows x 1037 columns]\n"
          ]
        }
      ],
      "source": [
        "print(all_desc.describe())"
      ]
    },
    {
      "cell_type": "code",
      "execution_count": 136,
      "metadata": {},
      "outputs": [
        {
          "name": "stdout",
          "output_type": "stream",
          "text": [
            "Max values for each column:\n",
            "35000010828.0\n"
          ]
        }
      ],
      "source": [
        "# Generate the summary statistics using describe()\n",
        "desc = all_desc.describe()\n",
        "\n",
        "# Access the 'max' row and print it\n",
        "max_values = desc.loc['max']\n",
        "\n",
        "print(\"Max values for each column:\")\n",
        "print(max_values.max())\n"
      ]
    },
    {
      "cell_type": "code",
      "execution_count": 99,
      "metadata": {
        "colab": {
          "base_uri": "https://localhost:8080/"
        },
        "id": "FnHfSQ_vR6nJ",
        "outputId": "aec05350-b743-44ec-c744-55d87f6ddf99"
      },
      "outputs": [
        {
          "name": "stdout",
          "output_type": "stream",
          "text": [
            "NaN found at Row 7349, Column 'VR1_A'\n",
            "NaN found at Row 7349, Column 'VR2_A'\n",
            "NaN found at Row 7349, Column 'VR3_A'\n"
          ]
        }
      ],
      "source": [
        "nan_positions = np.where(all_desc.isna())  # Get row, col indices of NaNs\n",
        "nan_rows_list = nan_positions[0]  # Row indices\n",
        "nan_cols_list = all_desc.columns[nan_positions[1]]  # Column names\n",
        "\n",
        "# Print NaN locations\n",
        "for row, col in zip(nan_rows_list, nan_cols_list):\n",
        "    print(f\"NaN found at Row {row}, Column '{col}'\")\n"
      ]
    },
    {
      "cell_type": "code",
      "execution_count": 101,
      "metadata": {},
      "outputs": [
        {
          "name": "stdout",
          "output_type": "stream",
          "text": [
            "VR1_A                     NaN\n",
            "VR2_A                     NaN\n",
            "VR3_A                     NaN\n",
            "VE2_A    0.021492563458053858\n",
            "Name: 7349, dtype: object\n"
          ]
        }
      ],
      "source": [
        "print(all_desc.loc[7349, ['VR1_A', 'VR2_A', 'VR3_A', 'VE2_A']])\n"
      ]
    },
    {
      "cell_type": "code",
      "execution_count": 102,
      "metadata": {},
      "outputs": [],
      "source": [
        "# all_desc = all_desc.drop(index=7349)\n",
        "all_desc.fillna(0, inplace=True)  # Replace NaNs with 0 in the original DataFrame\n"
      ]
    },
    {
      "cell_type": "code",
      "execution_count": null,
      "metadata": {
        "colab": {
          "base_uri": "https://localhost:8080/"
        },
        "collapsed": true,
        "id": "1pSP-MHRLCGx",
        "outputId": "9312d245-7d4d-4c75-a369-99780d150004"
      },
      "outputs": [],
      "source": [
        "print(\"NaN in desc:\", all_desc.isna().sum().sum())  # Count total NaNs\n",
        "print(\"Max value in desc:\", all_desc.max().max())  # Get overall max value\n",
        "print(\"Min value in desc:\", all_desc.min(axis=1).min())  # Get overall min value\n"
      ]
    },
    {
      "cell_type": "code",
      "execution_count": 107,
      "metadata": {},
      "outputs": [
        {
          "ename": "TypeError",
          "evalue": "'>=' not supported between instances of 'float' and 'str'",
          "output_type": "error",
          "traceback": [
            "\u001b[0;31m---------------------------------------------------------------------------\u001b[0m",
            "\u001b[0;31mTypeError\u001b[0m                                 Traceback (most recent call last)",
            "Cell \u001b[0;32mIn[107], line 1\u001b[0m\n\u001b[0;32m----> 1\u001b[0m \u001b[38;5;28mprint\u001b[39m(\u001b[38;5;124m\"\u001b[39m\u001b[38;5;124mMax value in desc:\u001b[39m\u001b[38;5;124m\"\u001b[39m, \u001b[43mall_desc\u001b[49m\u001b[38;5;241;43m.\u001b[39;49m\u001b[43mto_numpy\u001b[49m\u001b[43m(\u001b[49m\u001b[43m)\u001b[49m\u001b[38;5;241;43m.\u001b[39;49m\u001b[43mmax\u001b[49m\u001b[43m(\u001b[49m\u001b[43m)\u001b[49m)  \u001b[38;5;66;03m# Get overall max value\u001b[39;00m\n\u001b[1;32m      2\u001b[0m \u001b[38;5;28mprint\u001b[39m(\u001b[38;5;124m\"\u001b[39m\u001b[38;5;124mMin value in desc:\u001b[39m\u001b[38;5;124m\"\u001b[39m, all_desc\u001b[38;5;241m.\u001b[39mto_numpy()\u001b[38;5;241m.\u001b[39mmin()) \n",
            "File \u001b[0;32m~/.local/lib/python3.11/site-packages/numpy/core/_methods.py:40\u001b[0m, in \u001b[0;36m_amax\u001b[0;34m(a, axis, out, keepdims, initial, where)\u001b[0m\n\u001b[1;32m     38\u001b[0m \u001b[38;5;28;01mdef\u001b[39;00m\u001b[38;5;250m \u001b[39m\u001b[38;5;21m_amax\u001b[39m(a, axis\u001b[38;5;241m=\u001b[39m\u001b[38;5;28;01mNone\u001b[39;00m, out\u001b[38;5;241m=\u001b[39m\u001b[38;5;28;01mNone\u001b[39;00m, keepdims\u001b[38;5;241m=\u001b[39m\u001b[38;5;28;01mFalse\u001b[39;00m,\n\u001b[1;32m     39\u001b[0m           initial\u001b[38;5;241m=\u001b[39m_NoValue, where\u001b[38;5;241m=\u001b[39m\u001b[38;5;28;01mTrue\u001b[39;00m):\n\u001b[0;32m---> 40\u001b[0m     \u001b[38;5;28;01mreturn\u001b[39;00m umr_maximum(a, axis, \u001b[38;5;28;01mNone\u001b[39;00m, out, keepdims, initial, where)\n",
            "\u001b[0;31mTypeError\u001b[0m: '>=' not supported between instances of 'float' and 'str'"
          ]
        }
      ],
      "source": [
        "print(\"Max value in desc:\", all_desc.to_numpy().max())  # Get overall max value\n",
        "print(\"Min value in desc:\", all_desc.to_numpy().min()) "
      ]
    },
    {
      "cell_type": "code",
      "execution_count": null,
      "metadata": {},
      "outputs": [
        {
          "name": "stdout",
          "output_type": "stream",
          "text": [
            "Columns with non-numeric data:\n",
            "Index(['SpAbs_A', 'SpMax_A', 'SpDiam_A', 'SpAD_A', 'SpMAD_A', 'LogEE_A',\n",
            "       'VE1_A', 'VE2_A', 'VE3_A', 'VR1_A',\n",
            "       ...\n",
            "       'MID_C', 'AMID_C', 'MID_N', 'AMID_N', 'MID_O', 'AMID_O', 'MID_X',\n",
            "       'AMID_X', 'Vabc', 'mZagreb1'],\n",
            "      dtype='object', length=576)\n"
          ]
        }
      ],
      "source": [
        "non_numeric_columns = all_desc.select_dtypes(exclude=['number']).columns\n",
        "\n",
        "print(\"Columns with non-numeric data:\")\n",
        "print(non_numeric_columns)"
      ]
    },
    {
      "cell_type": "code",
      "execution_count": 133,
      "metadata": {},
      "outputs": [
        {
          "name": "stderr",
          "output_type": "stream",
          "text": [
            "/tmp/ipykernel_2991605/2518698632.py:3: FutureWarning: DataFrame.applymap has been deprecated. Use DataFrame.map instead.\n",
            "  non_numeric_rows = all_desc[all_desc.applymap(lambda x: isinstance(x, ( bool, int, float)) or pd.isna(x))]\n"
          ]
        },
        {
          "name": "stdout",
          "output_type": "stream",
          "text": [
            "Rows with non-numeric values:\n",
            "            ABC      ABCGG  nAcid  nBase SpAbs_A SpMax_A SpDiam_A SpAD_A  \\\n",
            "0     52.913863  42.915511      4      1     NaN     NaN      NaN    NaN   \n",
            "1     46.590342  38.520706      3      1     NaN     NaN      NaN    NaN   \n",
            "2     38.167759  31.380885      1      0     NaN     NaN      NaN    NaN   \n",
            "3     40.001350  30.729173      1      0     NaN     NaN      NaN    NaN   \n",
            "4     45.617764  34.511984      1      0     NaN     NaN      NaN    NaN   \n",
            "...         ...        ...    ...    ...     ...     ...      ...    ...   \n",
            "7454  33.656655  22.891133      0      1     NaN     NaN      NaN    NaN   \n",
            "7455  31.535335  22.317521      0      1     NaN     NaN      NaN    NaN   \n",
            "7456  32.949549  22.851021      0      1     NaN     NaN      NaN    NaN   \n",
            "7457  32.242442  22.372162      0      1     NaN     NaN      NaN    NaN   \n",
            "7458  32.949549  22.851021      0      1     NaN     NaN      NaN    NaN   \n",
            "\n",
            "     SpMAD_A LogEE_A  ...      SRW10      TSRW10          MW       AMW  WPath  \\\n",
            "0        NaN     NaN  ...  10.820278  110.064076  998.459678  7.288027  28854   \n",
            "1        NaN     NaN  ...  10.667023  101.362551  892.454199  7.027198  22054   \n",
            "2        NaN     NaN  ...  10.458665   89.340175  751.419000  6.649726  13123   \n",
            "3        NaN     NaN  ...  10.531856   90.661269  737.399978  6.827778  13440   \n",
            "4        NaN     NaN  ...  10.699124   98.407890  827.446929  6.838404  18407   \n",
            "...      ...     ...  ...        ...         ...         ...       ...    ...   \n",
            "7454     NaN     NaN  ...  10.539667   81.230254  601.351572  6.608259   7057   \n",
            "7455     NaN     NaN  ...  10.519457   78.024556  559.304621  6.820788   5783   \n",
            "7456     NaN     NaN  ...  10.532976   80.162768  587.335922  6.674272   6602   \n",
            "7457     NaN     NaN  ...  10.526239   79.094215  571.341007  6.567138   6190   \n",
            "7458     NaN     NaN  ...  10.532976   80.162768  585.356657  6.503963   6602   \n",
            "\n",
            "     WPol  Zagreb1  Zagreb2  mZagreb1   mZagreb2  \n",
            "0     104    338.0    376.0       NaN  15.944444  \n",
            "1      91    296.0    327.0       NaN  14.166667  \n",
            "2      74    242.0    267.0       NaN  11.916667  \n",
            "3      75    256.0    285.0       NaN  11.888889  \n",
            "4      87    294.0    330.0       NaN  13.416667  \n",
            "...   ...      ...      ...       ...        ...  \n",
            "7454   71    222.0    255.0       NaN   9.902778  \n",
            "7455   68    210.0    243.0       NaN   9.152778  \n",
            "7456   70    218.0    251.0       NaN   9.652778  \n",
            "7457   69    214.0    247.0       NaN   9.402778  \n",
            "7458   70    218.0    251.0       NaN   9.652778  \n",
            "\n",
            "[7459 rows x 1613 columns]\n"
          ]
        }
      ],
      "source": [
        "# Find all rows containing non-numeric values in any column\n",
        "\n",
        "non_numeric_rows = all_desc[all_desc.applymap(lambda x: isinstance(x, ( bool, int, float)) or pd.isna(x))]\n",
        "\n",
        "print(\"Rows with non-numeric values:\")\n",
        "print(non_numeric_rows)\n"
      ]
    },
    {
      "cell_type": "code",
      "execution_count": 128,
      "metadata": {},
      "outputs": [
        {
          "data": {
            "text/html": [
              "<div>\n",
              "<style scoped>\n",
              "    .dataframe tbody tr th:only-of-type {\n",
              "        vertical-align: middle;\n",
              "    }\n",
              "\n",
              "    .dataframe tbody tr th {\n",
              "        vertical-align: top;\n",
              "    }\n",
              "\n",
              "    .dataframe thead th {\n",
              "        text-align: right;\n",
              "    }\n",
              "</style>\n",
              "<table border=\"1\" class=\"dataframe\">\n",
              "  <thead>\n",
              "    <tr style=\"text-align: right;\">\n",
              "      <th></th>\n",
              "      <th>ABC</th>\n",
              "      <th>ABCGG</th>\n",
              "      <th>nAcid</th>\n",
              "      <th>nBase</th>\n",
              "      <th>SpAbs_A</th>\n",
              "      <th>SpMax_A</th>\n",
              "      <th>SpDiam_A</th>\n",
              "      <th>SpAD_A</th>\n",
              "      <th>SpMAD_A</th>\n",
              "      <th>LogEE_A</th>\n",
              "      <th>...</th>\n",
              "      <th>SRW10</th>\n",
              "      <th>TSRW10</th>\n",
              "      <th>MW</th>\n",
              "      <th>AMW</th>\n",
              "      <th>WPath</th>\n",
              "      <th>WPol</th>\n",
              "      <th>Zagreb1</th>\n",
              "      <th>Zagreb2</th>\n",
              "      <th>mZagreb1</th>\n",
              "      <th>mZagreb2</th>\n",
              "    </tr>\n",
              "  </thead>\n",
              "  <tbody>\n",
              "    <tr>\n",
              "      <th>0</th>\n",
              "      <td>52.913863</td>\n",
              "      <td>42.915511</td>\n",
              "      <td>4</td>\n",
              "      <td>1</td>\n",
              "      <td>84.98626757018828</td>\n",
              "      <td>2.357397720189413</td>\n",
              "      <td>4.714795440378827</td>\n",
              "      <td>84.98626757018828</td>\n",
              "      <td>1.1969896840871588</td>\n",
              "      <td>5.133485579543629</td>\n",
              "      <td>...</td>\n",
              "      <td>10.820278</td>\n",
              "      <td>110.064076</td>\n",
              "      <td>998.459678</td>\n",
              "      <td>7.288027</td>\n",
              "      <td>28854</td>\n",
              "      <td>104</td>\n",
              "      <td>338.0</td>\n",
              "      <td>376.0</td>\n",
              "      <td>30.916666666666668</td>\n",
              "      <td>15.944444</td>\n",
              "    </tr>\n",
              "    <tr>\n",
              "      <th>1</th>\n",
              "      <td>46.590342</td>\n",
              "      <td>38.520706</td>\n",
              "      <td>3</td>\n",
              "      <td>1</td>\n",
              "      <td>74.01907011815184</td>\n",
              "      <td>2.3378160261613266</td>\n",
              "      <td>4.675632052322653</td>\n",
              "      <td>74.01907011815184</td>\n",
              "      <td>1.174905874891299</td>\n",
              "      <td>5.006705779847072</td>\n",
              "      <td>...</td>\n",
              "      <td>10.667023</td>\n",
              "      <td>101.362551</td>\n",
              "      <td>892.454199</td>\n",
              "      <td>7.027198</td>\n",
              "      <td>22054</td>\n",
              "      <td>91</td>\n",
              "      <td>296.0</td>\n",
              "      <td>327.0</td>\n",
              "      <td>29.194444444444446</td>\n",
              "      <td>14.166667</td>\n",
              "    </tr>\n",
              "    <tr>\n",
              "      <th>2</th>\n",
              "      <td>38.167759</td>\n",
              "      <td>31.380885</td>\n",
              "      <td>1</td>\n",
              "      <td>0</td>\n",
              "      <td>61.6590324778258</td>\n",
              "      <td>2.3158764806213203</td>\n",
              "      <td>4.631752961242641</td>\n",
              "      <td>61.6590324778258</td>\n",
              "      <td>1.185750624573573</td>\n",
              "      <td>4.814306142495711</td>\n",
              "      <td>...</td>\n",
              "      <td>10.458665</td>\n",
              "      <td>89.340175</td>\n",
              "      <td>751.419000</td>\n",
              "      <td>6.649726</td>\n",
              "      <td>13123</td>\n",
              "      <td>74</td>\n",
              "      <td>242.0</td>\n",
              "      <td>267.0</td>\n",
              "      <td>23.38888888888889</td>\n",
              "      <td>11.916667</td>\n",
              "    </tr>\n",
              "    <tr>\n",
              "      <th>3</th>\n",
              "      <td>40.001350</td>\n",
              "      <td>30.729173</td>\n",
              "      <td>1</td>\n",
              "      <td>0</td>\n",
              "      <td>65.4298656045141</td>\n",
              "      <td>2.323172693179548</td>\n",
              "      <td>4.646345386359095</td>\n",
              "      <td>65.4298656045141</td>\n",
              "      <td>1.2345257661229077</td>\n",
              "      <td>4.854699529105913</td>\n",
              "      <td>...</td>\n",
              "      <td>10.531856</td>\n",
              "      <td>90.661269</td>\n",
              "      <td>737.399978</td>\n",
              "      <td>6.827778</td>\n",
              "      <td>13440</td>\n",
              "      <td>75</td>\n",
              "      <td>256.0</td>\n",
              "      <td>285.0</td>\n",
              "      <td>20.02777777777778</td>\n",
              "      <td>11.888889</td>\n",
              "    </tr>\n",
              "    <tr>\n",
              "      <th>4</th>\n",
              "      <td>45.617764</td>\n",
              "      <td>34.511984</td>\n",
              "      <td>1</td>\n",
              "      <td>0</td>\n",
              "      <td>74.83168516520648</td>\n",
              "      <td>2.335440098684775</td>\n",
              "      <td>4.67088019736955</td>\n",
              "      <td>74.83168516520648</td>\n",
              "      <td>1.2471947527534413</td>\n",
              "      <td>4.985372642376859</td>\n",
              "      <td>...</td>\n",
              "      <td>10.699124</td>\n",
              "      <td>98.407890</td>\n",
              "      <td>827.446929</td>\n",
              "      <td>6.838404</td>\n",
              "      <td>18407</td>\n",
              "      <td>87</td>\n",
              "      <td>294.0</td>\n",
              "      <td>330.0</td>\n",
              "      <td>21.5</td>\n",
              "      <td>13.416667</td>\n",
              "    </tr>\n",
              "    <tr>\n",
              "      <th>...</th>\n",
              "      <td>...</td>\n",
              "      <td>...</td>\n",
              "      <td>...</td>\n",
              "      <td>...</td>\n",
              "      <td>...</td>\n",
              "      <td>...</td>\n",
              "      <td>...</td>\n",
              "      <td>...</td>\n",
              "      <td>...</td>\n",
              "      <td>...</td>\n",
              "      <td>...</td>\n",
              "      <td>...</td>\n",
              "      <td>...</td>\n",
              "      <td>...</td>\n",
              "      <td>...</td>\n",
              "      <td>...</td>\n",
              "      <td>...</td>\n",
              "      <td>...</td>\n",
              "      <td>...</td>\n",
              "      <td>...</td>\n",
              "      <td>...</td>\n",
              "    </tr>\n",
              "    <tr>\n",
              "      <th>7454</th>\n",
              "      <td>33.656655</td>\n",
              "      <td>22.891133</td>\n",
              "      <td>0</td>\n",
              "      <td>1</td>\n",
              "      <td>56.59673908707246</td>\n",
              "      <td>2.3807463610771067</td>\n",
              "      <td>4.761492722154214</td>\n",
              "      <td>56.59673908707246</td>\n",
              "      <td>1.2862895247061923</td>\n",
              "      <td>4.690836869164231</td>\n",
              "      <td>...</td>\n",
              "      <td>10.539667</td>\n",
              "      <td>81.230254</td>\n",
              "      <td>601.351572</td>\n",
              "      <td>6.608259</td>\n",
              "      <td>7057</td>\n",
              "      <td>71</td>\n",
              "      <td>222.0</td>\n",
              "      <td>255.0</td>\n",
              "      <td>14.534722222222221</td>\n",
              "      <td>9.902778</td>\n",
              "    </tr>\n",
              "    <tr>\n",
              "      <th>7455</th>\n",
              "      <td>31.535335</td>\n",
              "      <td>22.317521</td>\n",
              "      <td>0</td>\n",
              "      <td>1</td>\n",
              "      <td>52.61886197882372</td>\n",
              "      <td>2.383281869708689</td>\n",
              "      <td>4.761364997052288</td>\n",
              "      <td>52.61886197882372</td>\n",
              "      <td>1.2833868775322859</td>\n",
              "      <td>4.626007159793486</td>\n",
              "      <td>...</td>\n",
              "      <td>10.519457</td>\n",
              "      <td>78.024556</td>\n",
              "      <td>559.304621</td>\n",
              "      <td>6.820788</td>\n",
              "      <td>5783</td>\n",
              "      <td>68</td>\n",
              "      <td>210.0</td>\n",
              "      <td>243.0</td>\n",
              "      <td>13.784722222222221</td>\n",
              "      <td>9.152778</td>\n",
              "    </tr>\n",
              "    <tr>\n",
              "      <th>7456</th>\n",
              "      <td>32.949549</td>\n",
              "      <td>22.851021</td>\n",
              "      <td>0</td>\n",
              "      <td>1</td>\n",
              "      <td>55.18693412749742</td>\n",
              "      <td>2.381116241945856</td>\n",
              "      <td>4.760704714662259</td>\n",
              "      <td>55.18693412749742</td>\n",
              "      <td>1.2834170727324983</td>\n",
              "      <td>4.669690536676091</td>\n",
              "      <td>...</td>\n",
              "      <td>10.532976</td>\n",
              "      <td>80.162768</td>\n",
              "      <td>587.335922</td>\n",
              "      <td>6.674272</td>\n",
              "      <td>6602</td>\n",
              "      <td>70</td>\n",
              "      <td>218.0</td>\n",
              "      <td>251.0</td>\n",
              "      <td>14.284722222222221</td>\n",
              "      <td>9.652778</td>\n",
              "    </tr>\n",
              "    <tr>\n",
              "      <th>7457</th>\n",
              "      <td>32.242442</td>\n",
              "      <td>22.372162</td>\n",
              "      <td>0</td>\n",
              "      <td>1</td>\n",
              "      <td>54.05941511274238</td>\n",
              "      <td>2.3818323860121775</td>\n",
              "      <td>4.763664772024354</td>\n",
              "      <td>54.05941511274238</td>\n",
              "      <td>1.287128931255771</td>\n",
              "      <td>4.64808735881653</td>\n",
              "      <td>...</td>\n",
              "      <td>10.526239</td>\n",
              "      <td>79.094215</td>\n",
              "      <td>571.341007</td>\n",
              "      <td>6.567138</td>\n",
              "      <td>6190</td>\n",
              "      <td>69</td>\n",
              "      <td>214.0</td>\n",
              "      <td>247.0</td>\n",
              "      <td>14.034722222222223</td>\n",
              "      <td>9.402778</td>\n",
              "    </tr>\n",
              "    <tr>\n",
              "      <th>7458</th>\n",
              "      <td>32.949549</td>\n",
              "      <td>22.851021</td>\n",
              "      <td>0</td>\n",
              "      <td>1</td>\n",
              "      <td>55.18693412749742</td>\n",
              "      <td>2.381116241945856</td>\n",
              "      <td>4.760704714662259</td>\n",
              "      <td>55.18693412749742</td>\n",
              "      <td>1.2834170727324983</td>\n",
              "      <td>4.669690536676091</td>\n",
              "      <td>...</td>\n",
              "      <td>10.532976</td>\n",
              "      <td>80.162768</td>\n",
              "      <td>585.356657</td>\n",
              "      <td>6.503963</td>\n",
              "      <td>6602</td>\n",
              "      <td>70</td>\n",
              "      <td>218.0</td>\n",
              "      <td>251.0</td>\n",
              "      <td>14.284722222222221</td>\n",
              "      <td>9.652778</td>\n",
              "    </tr>\n",
              "  </tbody>\n",
              "</table>\n",
              "<p>7459 rows × 1613 columns</p>\n",
              "</div>"
            ],
            "text/plain": [
              "            ABC      ABCGG  nAcid  nBase            SpAbs_A  \\\n",
              "0     52.913863  42.915511      4      1  84.98626757018828   \n",
              "1     46.590342  38.520706      3      1  74.01907011815184   \n",
              "2     38.167759  31.380885      1      0   61.6590324778258   \n",
              "3     40.001350  30.729173      1      0   65.4298656045141   \n",
              "4     45.617764  34.511984      1      0  74.83168516520648   \n",
              "...         ...        ...    ...    ...                ...   \n",
              "7454  33.656655  22.891133      0      1  56.59673908707246   \n",
              "7455  31.535335  22.317521      0      1  52.61886197882372   \n",
              "7456  32.949549  22.851021      0      1  55.18693412749742   \n",
              "7457  32.242442  22.372162      0      1  54.05941511274238   \n",
              "7458  32.949549  22.851021      0      1  55.18693412749742   \n",
              "\n",
              "                 SpMax_A           SpDiam_A             SpAD_A  \\\n",
              "0      2.357397720189413  4.714795440378827  84.98626757018828   \n",
              "1     2.3378160261613266  4.675632052322653  74.01907011815184   \n",
              "2     2.3158764806213203  4.631752961242641   61.6590324778258   \n",
              "3      2.323172693179548  4.646345386359095   65.4298656045141   \n",
              "4      2.335440098684775   4.67088019736955  74.83168516520648   \n",
              "...                  ...                ...                ...   \n",
              "7454  2.3807463610771067  4.761492722154214  56.59673908707246   \n",
              "7455   2.383281869708689  4.761364997052288  52.61886197882372   \n",
              "7456   2.381116241945856  4.760704714662259  55.18693412749742   \n",
              "7457  2.3818323860121775  4.763664772024354  54.05941511274238   \n",
              "7458   2.381116241945856  4.760704714662259  55.18693412749742   \n",
              "\n",
              "                 SpMAD_A            LogEE_A  ...      SRW10      TSRW10  \\\n",
              "0     1.1969896840871588  5.133485579543629  ...  10.820278  110.064076   \n",
              "1      1.174905874891299  5.006705779847072  ...  10.667023  101.362551   \n",
              "2      1.185750624573573  4.814306142495711  ...  10.458665   89.340175   \n",
              "3     1.2345257661229077  4.854699529105913  ...  10.531856   90.661269   \n",
              "4     1.2471947527534413  4.985372642376859  ...  10.699124   98.407890   \n",
              "...                  ...                ...  ...        ...         ...   \n",
              "7454  1.2862895247061923  4.690836869164231  ...  10.539667   81.230254   \n",
              "7455  1.2833868775322859  4.626007159793486  ...  10.519457   78.024556   \n",
              "7456  1.2834170727324983  4.669690536676091  ...  10.532976   80.162768   \n",
              "7457   1.287128931255771   4.64808735881653  ...  10.526239   79.094215   \n",
              "7458  1.2834170727324983  4.669690536676091  ...  10.532976   80.162768   \n",
              "\n",
              "              MW       AMW  WPath WPol  Zagreb1  Zagreb2            mZagreb1  \\\n",
              "0     998.459678  7.288027  28854  104    338.0    376.0  30.916666666666668   \n",
              "1     892.454199  7.027198  22054   91    296.0    327.0  29.194444444444446   \n",
              "2     751.419000  6.649726  13123   74    242.0    267.0   23.38888888888889   \n",
              "3     737.399978  6.827778  13440   75    256.0    285.0   20.02777777777778   \n",
              "4     827.446929  6.838404  18407   87    294.0    330.0                21.5   \n",
              "...          ...       ...    ...  ...      ...      ...                 ...   \n",
              "7454  601.351572  6.608259   7057   71    222.0    255.0  14.534722222222221   \n",
              "7455  559.304621  6.820788   5783   68    210.0    243.0  13.784722222222221   \n",
              "7456  587.335922  6.674272   6602   70    218.0    251.0  14.284722222222221   \n",
              "7457  571.341007  6.567138   6190   69    214.0    247.0  14.034722222222223   \n",
              "7458  585.356657  6.503963   6602   70    218.0    251.0  14.284722222222221   \n",
              "\n",
              "       mZagreb2  \n",
              "0     15.944444  \n",
              "1     14.166667  \n",
              "2     11.916667  \n",
              "3     11.888889  \n",
              "4     13.416667  \n",
              "...         ...  \n",
              "7454   9.902778  \n",
              "7455   9.152778  \n",
              "7456   9.652778  \n",
              "7457   9.402778  \n",
              "7458   9.652778  \n",
              "\n",
              "[7459 rows x 1613 columns]"
            ]
          },
          "execution_count": 128,
          "metadata": {},
          "output_type": "execute_result"
        }
      ],
      "source": [
        "all_desc"
      ]
    },
    {
      "cell_type": "code",
      "execution_count": 117,
      "metadata": {},
      "outputs": [
        {
          "name": "stdout",
          "output_type": "stream",
          "text": [
            "multiple fragments (SpAbs_A/SpAbs)\n"
          ]
        }
      ],
      "source": [
        "print(all_desc.iloc[232][\"SpAbs_A\"])\n"
      ]
    },
    {
      "cell_type": "code",
      "execution_count": 124,
      "metadata": {},
      "outputs": [
        {
          "name": "stdout",
          "output_type": "stream",
          "text": [
            "Non-numeric unique values in 'SpAbs_A':\n",
            "['multiple fragments (SpAbs_A/SpAbs)']\n"
          ]
        }
      ],
      "source": [
        "# Convert to numeric, and coerce errors to NaN (non-numeric values become NaN)\n",
        "non_numeric_values = all_desc['SpAbs_A'][pd.to_numeric(all_desc['SpAbs_A'], errors='coerce').isna()].unique()\n",
        "\n",
        "print(\"Non-numeric unique values in 'SpAbs_A':\")\n",
        "print(non_numeric_values)\n"
      ]
    },
    {
      "cell_type": "code",
      "execution_count": 125,
      "metadata": {},
      "outputs": [
        {
          "name": "stdout",
          "output_type": "stream",
          "text": [
            "Non-numeric values in 'col2' and the corresponding rows:\n",
            "                                 SpAbs_A\n",
            "232   multiple fragments (SpAbs_A/SpAbs)\n",
            "235   multiple fragments (SpAbs_A/SpAbs)\n",
            "238   multiple fragments (SpAbs_A/SpAbs)\n",
            "240   multiple fragments (SpAbs_A/SpAbs)\n",
            "243   multiple fragments (SpAbs_A/SpAbs)\n",
            "...                                  ...\n",
            "7251  multiple fragments (SpAbs_A/SpAbs)\n",
            "7252  multiple fragments (SpAbs_A/SpAbs)\n",
            "7253  multiple fragments (SpAbs_A/SpAbs)\n",
            "7254  multiple fragments (SpAbs_A/SpAbs)\n",
            "7255  multiple fragments (SpAbs_A/SpAbs)\n",
            "\n",
            "[130 rows x 1 columns]\n"
          ]
        }
      ],
      "source": [
        "\n",
        "# Select the column that is non-numeric, e.g., 'col2'\n",
        "non_numeric_values = all_desc[pd.to_numeric(all_desc['SpAbs_A'], errors='coerce').isna()]\n",
        "\n",
        "print(\"Non-numeric values in 'col2' and the corresponding rows:\")\n",
        "print(non_numeric_values[['SpAbs_A']])"
      ]
    },
    {
      "cell_type": "code",
      "execution_count": 122,
      "metadata": {},
      "outputs": [
        {
          "name": "stdout",
          "output_type": "stream",
          "text": [
            "['84.98626757018828' '74.01907011815184' '61.6590324778258' ...\n",
            " '56.59673908707246' '52.61886197882372' '54.05941511274238']\n"
          ]
        }
      ],
      "source": [
        "print(all_desc['SpAbs_A'].unique())"
      ]
    },
    {
      "cell_type": "code",
      "execution_count": null,
      "metadata": {
        "colab": {
          "base_uri": "https://localhost:8080/"
        },
        "id": "fmH4d8FaRLoE",
        "outputId": "b69b7082-1429-4a33-bca2-0d8877da8d02"
      },
      "outputs": [
        {
          "name": "stdout",
          "output_type": "stream",
          "text": [
            "Columns containing NaN values: [   0    1  865  866  867  868  869  870  871  872  873  874  875  876\n",
            "  877  878 1049 1050 1051 1052 1053 1054 1055 1056 1058 1059 1062 1063\n",
            " 1064 1066 1067 1068 1069 1070 1071 1072 1073 1074 1075 1076 1077 1078\n",
            " 1079 1080 1081 1082 1083 1084 1085 1086 1087 1088 1089 1090 1091 1092\n",
            " 1093 1094 1095 1096 1097 1098 1099 1100 1101 1102 1103 1104 1105 1106\n",
            " 1107 1108 1109 1110 1111 1112 1113 1114 1115 1116 1117 1118 1119 1120\n",
            " 1121 1122 1123 1124 1125 1126 1127 1128 1129 1130 1131 1132 1133 1134\n",
            " 1135 1137 1138 1141 1142 1143 1145 1146 1147 1148 1149 1150 1151 1152\n",
            " 1153 1154 1155 1156 1157 1158 1159 1160 1161 1162 1163 1164 1165 1166\n",
            " 1167 1168 1169 1170 1171 1172 1173 1174 1175 1176 1177 1178 1179 1180\n",
            " 1181 1182 1183 1184 1185 1186 1187 1188 1189 1190 1191 1192 1193 1194\n",
            " 1195 1196 1197 1198 1199 1200 1201 1202 1203 1204 1205 1206 1359 1360\n",
            " 1361 1362 1365 1367 1368 1369 1370 1371 1372 1373 1374 1375 1376 1377]\n",
            "Total affected descriptors: 182\n"
          ]
        }
      ],
      "source": [
        "# # Find indices of columns (features) that contain NaNs\n",
        "# nan_columns = np.where(np.isnan(X_).any(axis=0))[0]  # Get column indices\n",
        "\n",
        "# # print(f\"Columns containing NaN values: {nan_columns}\")\n",
        "# print(f\"Total affected descriptors: {len(nan_columns)}\")\n"
      ]
    },
    {
      "cell_type": "code",
      "execution_count": null,
      "metadata": {
        "colab": {
          "base_uri": "https://localhost:8080/"
        },
        "id": "wv97vTrjRbWP",
        "outputId": "c2f1332b-0da0-4284-adec-bf857540a269"
      },
      "outputs": [
        {
          "name": "stdout",
          "output_type": "stream",
          "text": [
            "Affected descriptors: [0, 1, 865, 866, 867, 868, 869, 870, 871, 872, 873, 874, 875, 876, 877, 878, 1049, 1050, 1051, 1052, 1053, 1054, 1055, 1056, 1058, 1059, 1062, 1063, 1064, 1066, 1067, 1068, 1069, 1070, 1071, 1072, 1073, 1074, 1075, 1076, 1077, 1078, 1079, 1080, 1081, 1082, 1083, 1084, 1085, 1086, 1087, 1088, 1089, 1090, 1091, 1092, 1093, 1094, 1095, 1096, 1097, 1098, 1099, 1100, 1101, 1102, 1103, 1104, 1105, 1106, 1107, 1108, 1109, 1110, 1111, 1112, 1113, 1114, 1115, 1116, 1117, 1118, 1119, 1120, 1121, 1122, 1123, 1124, 1125, 1126, 1127, 1128, 1129, 1130, 1131, 1132, 1133, 1134, 1135, 1137, 1138, 1141, 1142, 1143, 1145, 1146, 1147, 1148, 1149, 1150, 1151, 1152, 1153, 1154, 1155, 1156, 1157, 1158, 1159, 1160, 1161, 1162, 1163, 1164, 1165, 1166, 1167, 1168, 1169, 1170, 1171, 1172, 1173, 1174, 1175, 1176, 1177, 1178, 1179, 1180, 1181, 1182, 1183, 1184, 1185, 1186, 1187, 1188, 1189, 1190, 1191, 1192, 1193, 1194, 1195, 1196, 1197, 1198, 1199, 1200, 1201, 1202, 1203, 1204, 1205, 1206, 1359, 1360, 1361, 1362, 1365, 1367, 1368, 1369, 1370, 1371, 1372, 1373, 1374, 1375, 1376, 1377]\n"
          ]
        }
      ],
      "source": [
        "# # Print the exact feature names with NaNs\n",
        "# nan_feature_names = X_df.columns[nan_columns]\n",
        "# # print(f\"Affected descriptors: {nan_feature_names.tolist()}\")\n"
      ]
    },
    {
      "cell_type": "code",
      "execution_count": 138,
      "metadata": {},
      "outputs": [],
      "source": [
        "# Step 1: Identify and drop non-numeric columns\n",
        "numeric_columns = all_desc.select_dtypes(include=['number']).columns\n",
        "all_desc_numeric = all_desc[numeric_columns]\n",
        "\n"
      ]
    },
    {
      "cell_type": "code",
      "execution_count": 139,
      "metadata": {},
      "outputs": [
        {
          "data": {
            "text/html": [
              "<div>\n",
              "<style scoped>\n",
              "    .dataframe tbody tr th:only-of-type {\n",
              "        vertical-align: middle;\n",
              "    }\n",
              "\n",
              "    .dataframe tbody tr th {\n",
              "        vertical-align: top;\n",
              "    }\n",
              "\n",
              "    .dataframe thead th {\n",
              "        text-align: right;\n",
              "    }\n",
              "</style>\n",
              "<table border=\"1\" class=\"dataframe\">\n",
              "  <thead>\n",
              "    <tr style=\"text-align: right;\">\n",
              "      <th></th>\n",
              "      <th>ABC</th>\n",
              "      <th>ABCGG</th>\n",
              "      <th>nAcid</th>\n",
              "      <th>nBase</th>\n",
              "      <th>nAromAtom</th>\n",
              "      <th>nAromBond</th>\n",
              "      <th>nAtom</th>\n",
              "      <th>nHeavyAtom</th>\n",
              "      <th>nSpiro</th>\n",
              "      <th>nBridgehead</th>\n",
              "      <th>...</th>\n",
              "      <th>SRW09</th>\n",
              "      <th>SRW10</th>\n",
              "      <th>TSRW10</th>\n",
              "      <th>MW</th>\n",
              "      <th>AMW</th>\n",
              "      <th>WPath</th>\n",
              "      <th>WPol</th>\n",
              "      <th>Zagreb1</th>\n",
              "      <th>Zagreb2</th>\n",
              "      <th>mZagreb2</th>\n",
              "    </tr>\n",
              "  </thead>\n",
              "  <tbody>\n",
              "    <tr>\n",
              "      <th>0</th>\n",
              "      <td>52.913863</td>\n",
              "      <td>42.915511</td>\n",
              "      <td>4</td>\n",
              "      <td>1</td>\n",
              "      <td>12</td>\n",
              "      <td>12</td>\n",
              "      <td>137</td>\n",
              "      <td>71</td>\n",
              "      <td>0</td>\n",
              "      <td>0</td>\n",
              "      <td>...</td>\n",
              "      <td>0.0</td>\n",
              "      <td>10.820278</td>\n",
              "      <td>110.064076</td>\n",
              "      <td>998.459678</td>\n",
              "      <td>7.288027</td>\n",
              "      <td>28854</td>\n",
              "      <td>104</td>\n",
              "      <td>338.0</td>\n",
              "      <td>376.0</td>\n",
              "      <td>15.944444</td>\n",
              "    </tr>\n",
              "    <tr>\n",
              "      <th>1</th>\n",
              "      <td>46.590342</td>\n",
              "      <td>38.520706</td>\n",
              "      <td>3</td>\n",
              "      <td>1</td>\n",
              "      <td>6</td>\n",
              "      <td>6</td>\n",
              "      <td>127</td>\n",
              "      <td>63</td>\n",
              "      <td>0</td>\n",
              "      <td>0</td>\n",
              "      <td>...</td>\n",
              "      <td>0.0</td>\n",
              "      <td>10.667023</td>\n",
              "      <td>101.362551</td>\n",
              "      <td>892.454199</td>\n",
              "      <td>7.027198</td>\n",
              "      <td>22054</td>\n",
              "      <td>91</td>\n",
              "      <td>296.0</td>\n",
              "      <td>327.0</td>\n",
              "      <td>14.166667</td>\n",
              "    </tr>\n",
              "    <tr>\n",
              "      <th>2</th>\n",
              "      <td>38.167759</td>\n",
              "      <td>31.380885</td>\n",
              "      <td>1</td>\n",
              "      <td>0</td>\n",
              "      <td>6</td>\n",
              "      <td>6</td>\n",
              "      <td>113</td>\n",
              "      <td>52</td>\n",
              "      <td>0</td>\n",
              "      <td>0</td>\n",
              "      <td>...</td>\n",
              "      <td>0.0</td>\n",
              "      <td>10.458665</td>\n",
              "      <td>89.340175</td>\n",
              "      <td>751.419000</td>\n",
              "      <td>6.649726</td>\n",
              "      <td>13123</td>\n",
              "      <td>74</td>\n",
              "      <td>242.0</td>\n",
              "      <td>267.0</td>\n",
              "      <td>11.916667</td>\n",
              "    </tr>\n",
              "    <tr>\n",
              "      <th>3</th>\n",
              "      <td>40.001350</td>\n",
              "      <td>30.729173</td>\n",
              "      <td>1</td>\n",
              "      <td>0</td>\n",
              "      <td>12</td>\n",
              "      <td>12</td>\n",
              "      <td>108</td>\n",
              "      <td>53</td>\n",
              "      <td>0</td>\n",
              "      <td>0</td>\n",
              "      <td>...</td>\n",
              "      <td>0.0</td>\n",
              "      <td>10.531856</td>\n",
              "      <td>90.661269</td>\n",
              "      <td>737.399978</td>\n",
              "      <td>6.827778</td>\n",
              "      <td>13440</td>\n",
              "      <td>75</td>\n",
              "      <td>256.0</td>\n",
              "      <td>285.0</td>\n",
              "      <td>11.888889</td>\n",
              "    </tr>\n",
              "    <tr>\n",
              "      <th>4</th>\n",
              "      <td>45.617764</td>\n",
              "      <td>34.511984</td>\n",
              "      <td>1</td>\n",
              "      <td>0</td>\n",
              "      <td>18</td>\n",
              "      <td>18</td>\n",
              "      <td>121</td>\n",
              "      <td>60</td>\n",
              "      <td>0</td>\n",
              "      <td>0</td>\n",
              "      <td>...</td>\n",
              "      <td>0.0</td>\n",
              "      <td>10.699124</td>\n",
              "      <td>98.407890</td>\n",
              "      <td>827.446929</td>\n",
              "      <td>6.838404</td>\n",
              "      <td>18407</td>\n",
              "      <td>87</td>\n",
              "      <td>294.0</td>\n",
              "      <td>330.0</td>\n",
              "      <td>13.416667</td>\n",
              "    </tr>\n",
              "    <tr>\n",
              "      <th>...</th>\n",
              "      <td>...</td>\n",
              "      <td>...</td>\n",
              "      <td>...</td>\n",
              "      <td>...</td>\n",
              "      <td>...</td>\n",
              "      <td>...</td>\n",
              "      <td>...</td>\n",
              "      <td>...</td>\n",
              "      <td>...</td>\n",
              "      <td>...</td>\n",
              "      <td>...</td>\n",
              "      <td>...</td>\n",
              "      <td>...</td>\n",
              "      <td>...</td>\n",
              "      <td>...</td>\n",
              "      <td>...</td>\n",
              "      <td>...</td>\n",
              "      <td>...</td>\n",
              "      <td>...</td>\n",
              "      <td>...</td>\n",
              "      <td>...</td>\n",
              "    </tr>\n",
              "    <tr>\n",
              "      <th>7454</th>\n",
              "      <td>33.656655</td>\n",
              "      <td>22.891133</td>\n",
              "      <td>0</td>\n",
              "      <td>1</td>\n",
              "      <td>18</td>\n",
              "      <td>18</td>\n",
              "      <td>91</td>\n",
              "      <td>44</td>\n",
              "      <td>0</td>\n",
              "      <td>4</td>\n",
              "      <td>...</td>\n",
              "      <td>0.0</td>\n",
              "      <td>10.539667</td>\n",
              "      <td>81.230254</td>\n",
              "      <td>601.351572</td>\n",
              "      <td>6.608259</td>\n",
              "      <td>7057</td>\n",
              "      <td>71</td>\n",
              "      <td>222.0</td>\n",
              "      <td>255.0</td>\n",
              "      <td>9.902778</td>\n",
              "    </tr>\n",
              "    <tr>\n",
              "      <th>7455</th>\n",
              "      <td>31.535335</td>\n",
              "      <td>22.317521</td>\n",
              "      <td>0</td>\n",
              "      <td>1</td>\n",
              "      <td>18</td>\n",
              "      <td>18</td>\n",
              "      <td>82</td>\n",
              "      <td>41</td>\n",
              "      <td>0</td>\n",
              "      <td>4</td>\n",
              "      <td>...</td>\n",
              "      <td>0.0</td>\n",
              "      <td>10.519457</td>\n",
              "      <td>78.024556</td>\n",
              "      <td>559.304621</td>\n",
              "      <td>6.820788</td>\n",
              "      <td>5783</td>\n",
              "      <td>68</td>\n",
              "      <td>210.0</td>\n",
              "      <td>243.0</td>\n",
              "      <td>9.152778</td>\n",
              "    </tr>\n",
              "    <tr>\n",
              "      <th>7456</th>\n",
              "      <td>32.949549</td>\n",
              "      <td>22.851021</td>\n",
              "      <td>0</td>\n",
              "      <td>1</td>\n",
              "      <td>18</td>\n",
              "      <td>18</td>\n",
              "      <td>88</td>\n",
              "      <td>43</td>\n",
              "      <td>0</td>\n",
              "      <td>4</td>\n",
              "      <td>...</td>\n",
              "      <td>0.0</td>\n",
              "      <td>10.532976</td>\n",
              "      <td>80.162768</td>\n",
              "      <td>587.335922</td>\n",
              "      <td>6.674272</td>\n",
              "      <td>6602</td>\n",
              "      <td>70</td>\n",
              "      <td>218.0</td>\n",
              "      <td>251.0</td>\n",
              "      <td>9.652778</td>\n",
              "    </tr>\n",
              "    <tr>\n",
              "      <th>7457</th>\n",
              "      <td>32.242442</td>\n",
              "      <td>22.372162</td>\n",
              "      <td>0</td>\n",
              "      <td>1</td>\n",
              "      <td>18</td>\n",
              "      <td>18</td>\n",
              "      <td>87</td>\n",
              "      <td>42</td>\n",
              "      <td>0</td>\n",
              "      <td>4</td>\n",
              "      <td>...</td>\n",
              "      <td>0.0</td>\n",
              "      <td>10.526239</td>\n",
              "      <td>79.094215</td>\n",
              "      <td>571.341007</td>\n",
              "      <td>6.567138</td>\n",
              "      <td>6190</td>\n",
              "      <td>69</td>\n",
              "      <td>214.0</td>\n",
              "      <td>247.0</td>\n",
              "      <td>9.402778</td>\n",
              "    </tr>\n",
              "    <tr>\n",
              "      <th>7458</th>\n",
              "      <td>32.949549</td>\n",
              "      <td>22.851021</td>\n",
              "      <td>0</td>\n",
              "      <td>1</td>\n",
              "      <td>18</td>\n",
              "      <td>18</td>\n",
              "      <td>90</td>\n",
              "      <td>43</td>\n",
              "      <td>0</td>\n",
              "      <td>4</td>\n",
              "      <td>...</td>\n",
              "      <td>0.0</td>\n",
              "      <td>10.532976</td>\n",
              "      <td>80.162768</td>\n",
              "      <td>585.356657</td>\n",
              "      <td>6.503963</td>\n",
              "      <td>6602</td>\n",
              "      <td>70</td>\n",
              "      <td>218.0</td>\n",
              "      <td>251.0</td>\n",
              "      <td>9.652778</td>\n",
              "    </tr>\n",
              "  </tbody>\n",
              "</table>\n",
              "<p>7459 rows × 1037 columns</p>\n",
              "</div>"
            ],
            "text/plain": [
              "            ABC      ABCGG  nAcid  nBase  nAromAtom  nAromBond  nAtom  \\\n",
              "0     52.913863  42.915511      4      1         12         12    137   \n",
              "1     46.590342  38.520706      3      1          6          6    127   \n",
              "2     38.167759  31.380885      1      0          6          6    113   \n",
              "3     40.001350  30.729173      1      0         12         12    108   \n",
              "4     45.617764  34.511984      1      0         18         18    121   \n",
              "...         ...        ...    ...    ...        ...        ...    ...   \n",
              "7454  33.656655  22.891133      0      1         18         18     91   \n",
              "7455  31.535335  22.317521      0      1         18         18     82   \n",
              "7456  32.949549  22.851021      0      1         18         18     88   \n",
              "7457  32.242442  22.372162      0      1         18         18     87   \n",
              "7458  32.949549  22.851021      0      1         18         18     90   \n",
              "\n",
              "      nHeavyAtom  nSpiro  nBridgehead  ...  SRW09      SRW10      TSRW10  \\\n",
              "0             71       0            0  ...    0.0  10.820278  110.064076   \n",
              "1             63       0            0  ...    0.0  10.667023  101.362551   \n",
              "2             52       0            0  ...    0.0  10.458665   89.340175   \n",
              "3             53       0            0  ...    0.0  10.531856   90.661269   \n",
              "4             60       0            0  ...    0.0  10.699124   98.407890   \n",
              "...          ...     ...          ...  ...    ...        ...         ...   \n",
              "7454          44       0            4  ...    0.0  10.539667   81.230254   \n",
              "7455          41       0            4  ...    0.0  10.519457   78.024556   \n",
              "7456          43       0            4  ...    0.0  10.532976   80.162768   \n",
              "7457          42       0            4  ...    0.0  10.526239   79.094215   \n",
              "7458          43       0            4  ...    0.0  10.532976   80.162768   \n",
              "\n",
              "              MW       AMW  WPath  WPol  Zagreb1  Zagreb2   mZagreb2  \n",
              "0     998.459678  7.288027  28854   104    338.0    376.0  15.944444  \n",
              "1     892.454199  7.027198  22054    91    296.0    327.0  14.166667  \n",
              "2     751.419000  6.649726  13123    74    242.0    267.0  11.916667  \n",
              "3     737.399978  6.827778  13440    75    256.0    285.0  11.888889  \n",
              "4     827.446929  6.838404  18407    87    294.0    330.0  13.416667  \n",
              "...          ...       ...    ...   ...      ...      ...        ...  \n",
              "7454  601.351572  6.608259   7057    71    222.0    255.0   9.902778  \n",
              "7455  559.304621  6.820788   5783    68    210.0    243.0   9.152778  \n",
              "7456  587.335922  6.674272   6602    70    218.0    251.0   9.652778  \n",
              "7457  571.341007  6.567138   6190    69    214.0    247.0   9.402778  \n",
              "7458  585.356657  6.503963   6602    70    218.0    251.0   9.652778  \n",
              "\n",
              "[7459 rows x 1037 columns]"
            ]
          },
          "execution_count": 139,
          "metadata": {},
          "output_type": "execute_result"
        }
      ],
      "source": [
        "all_desc_numeric"
      ]
    },
    {
      "cell_type": "code",
      "execution_count": 140,
      "metadata": {},
      "outputs": [
        {
          "name": "stdout",
          "output_type": "stream",
          "text": [
            "Modified DataFrame with only numeric columns has been saved to 'cleaned_all_desc.csv'.\n"
          ]
        }
      ],
      "source": [
        "# Step 2: Save the modified DataFrame to a CSV file\n",
        "all_desc_numeric.to_csv('only_numeric_all_desc.csv', index=False)\n",
        "\n",
        "print(\"Modified DataFrame with only numeric columns has been saved to 'cleaned_all_desc.csv'.\")\n"
      ]
    },
    {
      "cell_type": "code",
      "execution_count": 141,
      "metadata": {},
      "outputs": [
        {
          "name": "stdout",
          "output_type": "stream",
          "text": [
            "NaN in desc: 0\n"
          ]
        }
      ],
      "source": [
        "print(\"NaN in desc:\", all_desc_numeric.isna().sum().sum())  # Count total NaNs\n"
      ]
    },
    {
      "cell_type": "markdown",
      "metadata": {
        "id": "dRqvIqTPKJ0z"
      },
      "source": [
        "## Feature Selection: Remove Low-Variance and Correlated Features"
      ]
    },
    {
      "cell_type": "code",
      "execution_count": 145,
      "metadata": {
        "colab": {
          "base_uri": "https://localhost:8080/"
        },
        "id": "B6nRj5U7KN3G",
        "outputId": "b11ef87b-b129-4df3-d45e-44cf06780b7e"
      },
      "outputs": [
        {
          "name": "stdout",
          "output_type": "stream",
          "text": [
            "Removed low-variance features: ['nB', 'nP', 'nBr', 'nI', 'AATS5d', 'AATS6d', 'AATS1se', 'AATS2se', 'AATS3se', 'AATS4se', 'AATS6se', 'AATS1pe', 'AATS1are', 'AATS0p', 'AATS1p', 'AATS2p', 'AATS3p', 'AATS4p', 'AATS5p', 'AATS6p', 'AATSC0d', 'AATSC1d', 'AATSC2d', 'AATSC3d', 'AATSC4d', 'AATSC5d', 'AATSC6d', 'AATSC0se', 'AATSC1se', 'AATSC2se', 'AATSC3se', 'AATSC4se', 'AATSC5se', 'AATSC6se', 'AATSC0pe', 'AATSC1pe', 'AATSC2pe', 'AATSC3pe', 'AATSC4pe', 'AATSC5pe', 'AATSC6pe', 'AATSC0are', 'AATSC1are', 'AATSC2are', 'AATSC3are', 'AATSC4are', 'AATSC5are', 'AATSC6are', 'AATSC0p', 'AATSC1p', 'AATSC2p', 'AATSC3p', 'AATSC4p', 'AATSC5p', 'AATSC6p', 'AATSC1i', 'AATSC2i', 'AATSC3i', 'AATSC4i', 'AATSC5i', 'AATSC6i', 'MATS1dv', 'MATS2dv', 'MATS3dv', 'MATS4dv', 'MATS5dv', 'MATS6dv', 'MATS1d', 'MATS2d', 'MATS3d', 'MATS4d', 'MATS5d', 'MATS6d', 'MATS1Z', 'MATS2Z', 'MATS3Z', 'MATS4Z', 'MATS5Z', 'MATS6Z', 'MATS1m', 'MATS2m', 'MATS3m', 'MATS4m', 'MATS5m', 'MATS6m', 'MATS1v', 'MATS2v', 'MATS3v', 'MATS4v', 'MATS5v', 'MATS6v', 'MATS1se', 'MATS2se', 'MATS3se', 'MATS4se', 'MATS5se', 'MATS6se', 'MATS1pe', 'MATS2pe', 'MATS3pe', 'MATS4pe', 'MATS5pe', 'MATS6pe', 'MATS1are', 'MATS2are', 'MATS3are', 'MATS4are', 'MATS5are', 'MATS6are', 'MATS1p', 'MATS2p', 'MATS3p', 'MATS4p', 'MATS5p', 'MATS6p', 'MATS1i', 'MATS2i', 'MATS3i', 'MATS4i', 'MATS5i', 'MATS6i', 'GATS1dv', 'GATS2dv', 'GATS3dv', 'GATS4dv', 'GATS5dv', 'GATS6dv', 'GATS1d', 'GATS2d', 'GATS3d', 'GATS4d', 'GATS5d', 'GATS6d', 'GATS1Z', 'GATS2Z', 'GATS3Z', 'GATS4Z', 'GATS5Z', 'GATS6Z', 'GATS1m', 'GATS2m', 'GATS3m', 'GATS4m', 'GATS5m', 'GATS6m', 'GATS1v', 'GATS2v', 'GATS3v', 'GATS4v', 'GATS5v', 'GATS6v', 'GATS1se', 'GATS2se', 'GATS3se', 'GATS4se', 'GATS5se', 'GATS6se', 'GATS1pe', 'GATS2pe', 'GATS3pe', 'GATS4pe', 'GATS5pe', 'GATS6pe', 'GATS1are', 'GATS2are', 'GATS3are', 'GATS4are', 'GATS5are', 'GATS6are', 'GATS1p', 'GATS2p', 'GATS3p', 'GATS4p', 'GATS5p', 'GATS6p', 'GATS1i', 'GATS2i', 'GATS3i', 'GATS4i', 'GATS5i', 'GATS6i', 'C1SP1', 'HybRatio', 'FCSP3', 'Xch-3d', 'Xch-4d', 'Xch-5d', 'Xch-6d', 'Xch-3dv', 'Xch-4dv', 'Xch-5dv', 'Xch-6dv', 'Xch-7dv', 'Xc-4d', 'Xc-6d', 'Xc-4dv', 'Xc-5dv', 'Xc-6dv', 'AXp-1d', 'AXp-2d', 'AXp-3d', 'AXp-4d', 'AXp-5d', 'AXp-6d', 'AXp-1dv', 'AXp-2dv', 'AXp-3dv', 'AXp-4dv', 'AXp-5dv', 'AXp-6dv', 'MZ', 'Mm', 'Mv', 'Mse', 'Mpe', 'Mare', 'Mp', 'Mi', 'NsLi', 'NssBe', 'NssssBe', 'NssBH', 'NsssB', 'NssssB', 'NdCH2', 'NtCH', 'NddC', 'NsNH3', 'NssNH2', 'NdNH', 'NaaNH', 'NtN', 'NsssNH', 'NddsN', 'NaasN', 'NssssN', 'NaaO', 'NsSiH3', 'NssSiH2', 'NsssSiH', 'NssssSi', 'NsPH2', 'NssPH', 'NsssP', 'NdsssP', 'NsssssP', 'NsSH', 'NdS', 'NaaS', 'NdssS', 'NddssS', 'NsGeH3', 'NssGeH2', 'NsssGeH', 'NssssGe', 'NsAsH2', 'NssAsH', 'NsssAs', 'NsssdAs', 'NsssssAs', 'NsSeH', 'NdSe', 'NssSe', 'NaaSe', 'NdssSe', 'NddssSe', 'NsBr', 'NsSnH3', 'NssSnH2', 'NsssSnH', 'NssssSn', 'NsI', 'NsPbH3', 'NssPbH2', 'NsssPbH', 'NssssPb', 'SsLi', 'SssBe', 'SssssBe', 'SssBH', 'SsssB', 'SssssB', 'SddC', 'SsNH3', 'SssNH2', 'SsssNH', 'SddsN', 'SssssN', 'SsSiH3', 'SssSiH2', 'SsssSiH', 'SssssSi', 'SsPH2', 'SssPH', 'SsssP', 'SdsssP', 'SsssssP', 'SsSH', 'SdS', 'SdssS', 'SsGeH3', 'SssGeH2', 'SsssGeH', 'SssssGe', 'SsAsH2', 'SssAsH', 'SsssAs', 'SsssdAs', 'SsssssAs', 'SsSeH', 'SdSe', 'SssSe', 'SaaSe', 'SdssSe', 'SddssSe', 'SsSnH3', 'SssSnH2', 'SsssSnH', 'SssssSn', 'SsI', 'SsPbH3', 'SssPbH2', 'SsssPbH', 'SssssPb', 'fMF', 'IC0', 'SIC0', 'SIC1', 'SIC2', 'SIC3', 'SIC4', 'SIC5', 'BIC0', 'BIC1', 'BIC2', 'BIC3', 'BIC4', 'BIC5', 'CIC3', 'CIC4', 'CIC5', 'SMR_VSA8', 'SlogP_VSA9', 'piPC1', 'piPC2', 'piPC3', 'piPC4', 'n4Ring', 'n7Ring', 'n8Ring', 'n9Ring', 'n10Ring', 'n11Ring', 'n12Ring', 'nG12Ring', 'n3HRing', 'n4HRing', 'n7HRing', 'n8HRing', 'n9HRing', 'n10HRing', 'n11HRing', 'n12HRing', 'nG12HRing', 'n3aRing', 'n4aRing', 'n7aRing', 'n8aRing', 'n9aRing', 'n10aRing', 'n11aRing', 'n12aRing', 'nG12aRing', 'n3aHRing', 'n4aHRing', 'n7aHRing', 'n8aHRing', 'n9aHRing', 'n10aHRing', 'n11aHRing', 'n12aHRing', 'nG12aHRing', 'n4ARing', 'n7ARing', 'n8ARing', 'n9ARing', 'n10ARing', 'n11ARing', 'n12ARing', 'nG12ARing', 'n3AHRing', 'n4AHRing', 'n7AHRing', 'n8AHRing', 'n9AHRing', 'n10AHRing', 'n11AHRing', 'n12AHRing', 'nG12AHRing', 'n4FRing', 'n5FRing', 'n6FRing', 'n7FRing', 'n8FRing', 'n11FRing', 'n12FRing', 'n4FHRing', 'n5FHRing', 'n6FHRing', 'n7FHRing', 'n8FHRing', 'n9FHRing', 'n11FHRing', 'n12FHRing', 'nG12FHRing', 'n4FaRing', 'n5FaRing', 'n6FaRing', 'n7FaRing', 'n8FaRing', 'n9FaRing', 'n10FaRing', 'n11FaRing', 'n12FaRing', 'nG12FaRing', 'n4FaHRing', 'n5FaHRing', 'n6FaHRing', 'n7FaHRing', 'n8FaHRing', 'n9FaHRing', 'n10FaHRing', 'n11FaHRing', 'n12FaHRing', 'nG12FaHRing', 'n4FARing', 'n5FARing', 'n6FARing', 'n7FARing', 'n8FARing', 'n11FARing', 'n12FARing', 'nG12FARing', 'n4FAHRing', 'n5FAHRing', 'n6FAHRing', 'n7FAHRing', 'n8FAHRing', 'n9FAHRing', 'n11FAHRing', 'n12FAHRing', 'nG12FAHRing', 'RotRatio', 'GGI9', 'GGI10', 'JGI1', 'JGI2', 'JGI3', 'JGI4', 'JGI5', 'JGI6', 'JGI7', 'JGI8', 'JGI9', 'JGI10', 'JGT10', 'TopoShapeIndex', 'PetitjeanIndex', 'MWC02', 'MWC03', 'MWC04', 'MWC05', 'MWC06', 'MWC07', 'SRW02', 'SRW04', 'SRW06', 'SRW08', 'SRW10']\n",
            "Data after removing low-variance features:\n",
            "            ABC      ABCGG  nAcid  nBase  nAromAtom  nAromBond  nAtom  \\\n",
            "0     52.913863  42.915511      4      1         12         12    137   \n",
            "1     46.590342  38.520706      3      1          6          6    127   \n",
            "2     38.167759  31.380885      1      0          6          6    113   \n",
            "3     40.001350  30.729173      1      0         12         12    108   \n",
            "4     45.617764  34.511984      1      0         18         18    121   \n",
            "...         ...        ...    ...    ...        ...        ...    ...   \n",
            "7454  33.656655  22.891133      0      1         18         18     91   \n",
            "7455  31.535335  22.317521      0      1         18         18     82   \n",
            "7456  32.949549  22.851021      0      1         18         18     88   \n",
            "7457  32.242442  22.372162      0      1         18         18     87   \n",
            "7458  32.949549  22.851021      0      1         18         18     90   \n",
            "\n",
            "      nHeavyAtom  nSpiro  nBridgehead  ...  SRW07  SRW09      TSRW10  \\\n",
            "0             71       0            0  ...    0.0    0.0  110.064076   \n",
            "1             63       0            0  ...    0.0    0.0  101.362551   \n",
            "2             52       0            0  ...    0.0    0.0   89.340175   \n",
            "3             53       0            0  ...    0.0    0.0   90.661269   \n",
            "4             60       0            0  ...    0.0    0.0   98.407890   \n",
            "...          ...     ...          ...  ...    ...    ...         ...   \n",
            "7454          44       0            4  ...    0.0    0.0   81.230254   \n",
            "7455          41       0            4  ...    0.0    0.0   78.024556   \n",
            "7456          43       0            4  ...    0.0    0.0   80.162768   \n",
            "7457          42       0            4  ...    0.0    0.0   79.094215   \n",
            "7458          43       0            4  ...    0.0    0.0   80.162768   \n",
            "\n",
            "              MW       AMW  WPath  WPol  Zagreb1  Zagreb2   mZagreb2  \n",
            "0     998.459678  7.288027  28854   104    338.0    376.0  15.944444  \n",
            "1     892.454199  7.027198  22054    91    296.0    327.0  14.166667  \n",
            "2     751.419000  6.649726  13123    74    242.0    267.0  11.916667  \n",
            "3     737.399978  6.827778  13440    75    256.0    285.0  11.888889  \n",
            "4     827.446929  6.838404  18407    87    294.0    330.0  13.416667  \n",
            "...          ...       ...    ...   ...      ...      ...        ...  \n",
            "7454  601.351572  6.608259   7057    71    222.0    255.0   9.902778  \n",
            "7455  559.304621  6.820788   5783    68    210.0    243.0   9.152778  \n",
            "7456  587.335922  6.674272   6602    70    218.0    251.0   9.652778  \n",
            "7457  571.341007  6.567138   6190    69    214.0    247.0   9.402778  \n",
            "7458  585.356657  6.503963   6602    70    218.0    251.0   9.652778  \n",
            "\n",
            "[7459 rows x 558 columns]\n",
            "Removed highly correlated features: {'SsF', 'Xp-6d', 'AATS1d', 'MIC3', 'ATS7are', 'Sp', 'ATS7dv', 'TopoPSA', 'ATS8se', 'ATSC2are', 'ATS3p', 'AATSC1m', 'ATS1Z', 'piPC8', 'MPC3', 'ATSC4pe', 'apol', 'TIC1', 'ATS4Z', 'n5aHRing', 'ATSC0d', 'SRW03', 'ATS1v', 'ATSC7are', 'MIC5', 'ATS4v', 'SRW09', 'nBondsA', 'ATSC0are', 'SlogP_VSA6', 'Xp-5d', 'ATS7Z', 'ZMIC0', 'Xp-7dv', 'ATS6pe', 'ATSC5m', 'SMR', 'ATS0i', 'AATS3d', 'MPC2', 'AMW', 'ATS7i', 'MPC5', 'AATS0pe', 'TIC5', 'ATSC2pe', 'MPC10', 'AATSC0Z', 'Xpc-6d', 'AATS2pe', 'ATSC2m', 'Xp-1dv', 'MPC4', 'AATS2are', 'AATSC4m', 'ATS1p', 'ATSC1pe', 'LabuteASA', 'ATS8d', 'ATS2m', 'ATS3m', 'ATS0se', 'ATS6are', 'AATS2v', 'ATSC0v', 'TIC4', 'ATS3dv', 'ATSC1m', 'ATS7se', 'AATSC0m', 'Zagreb2', 'n3ARing', 'ATS5d', 'ABCGG', 'NsCl', 'bpol', 'ATS2dv', 'ATS8p', 'ATS5pe', 'Xp-4dv', 'AATSC2m', 'SaaN', 'Xp-6dv', 'SsOH', 'AATS4m', 'ATSC4m', 'ATS8Z', 'ATS5v', 'ATSC0Z', 'AATS3pe', 'ATSC5pe', 'ATS2i', 'ATS5m', 'nBondsO', 'TIC0', 'ATS3v', 'ATS4m', 'ATS1d', 'ATS6v', 'nX', 'ATS2Z', 'ATS5Z', 'AATS0m', 'Si', 'SssS', 'ATS1m', 'Kier2', 'StsC', 'TpiPC10', 'ATS3pe', 'ATS6p', 'AATS4dv', 'Sm', 'ZMIC5', 'nAromBond', 'ATS4p', 'ATSC8are', 'AATS0se', 'Sare', 'SdO', 'GGI2', 'ATSC8pe', 'MWC09', 'Xp-1d', 'ATS3are', 'ATS3se', 'ATS5p', 'ATS2pe', 'Xp-7d', 'SaaCH', 'Kier1', 'MIC4', 'NsF', 'ATS0m', 'Xpc-6dv', 'SlogP_VSA7', 'AATS3dv', 'GGI8', 'SRW07', 'ATS8i', 'ATSC0dv', 'ATSC4are', 'ATS2se', 'Spe', 'IC5', 'ATS1pe', 'ATSC8m', 'ATSC6m', 'ATS3Z', 'ATS0d', 'AATS5are', 'Xp-5dv', 'Xp-3d', 'VMcGowan', 'ATS5se', 'AATS1m', 'ATS2v', 'GGI1', 'ATS1are', 'ATS0v', 'MPC8', 'MW', 'SsNH2', 'TIC2', 'ATS8are', 'SssNH', 'ATSC1are', 'AATS6are', 'Xp-2d', 'nFaHRing', 'MWC01', 'ATSC6pe', 'ATS4i', 'Sv', 'TMPC10', 'nBondsKS', 'TIC3', 'ATS7d', 'ATSC0m', 'SdsN', 'ATSC0pe', 'ATSC3pe', 'AATS1v', 'naRing', 'piPC7', 'TMWC10', 'piPC9', 'AATS2Z', 'WPol', 'Zagreb1', 'nRot', 'AATS0are', 'ATS7pe', 'ATS2d', 'AATS6m', 'nBondsS', 'AATSC1Z', 'ATS6d', 'ATS4dv', 'AATSC3m', 'ATS5dv', 'ATSC3m', 'nHeavyAtom', 'AATS2dv', 'ATS7p', 'ATS4pe', 'SssO', 'Radius', 'MPC7', 'Diameter', 'ATS6Z', 'SsssN', 'Sse', 'AATS2m', 'ATS4se', 'AATS4are', 'SZ', 'SsCl', 'ATSC5are', 'nBonds', 'SsCH3', 'nC', 'piPC6', 'AATSC6m', 'Xp-2dv', 'MPC6', 'ATS8v', 'AATS2d', 'MPC9', 'ATS1se', 'ATS8m', 'ATS2are', 'ATS5are', 'ATS7v', 'ATS2p', 'ATS3d', 'ATS8dv', 'ATS5i', 'Kier3', 'ATS0pe', 'ATS6dv', 'ATS1dv', 'Xp-4d', 'AATS5m', 'AATSC0i', 'ATS7m', 'ATS4d', 'ATSC6are', 'nH', 'ATS8pe', 'ATS6m', 'ATSC7pe', 'ATS1i', 'ATS3i', 'SdsCH', 'AATS3m', 'ATS4are', 'AATSC5m', 'piPC10', 'ATSC3are', 'MWC10', 'AATS5pe', 'ATS0are', 'AATS3are', 'ATSC7m', 'ATS6i', 'ATS6se', 'mZagreb2'}\n",
            "Data after removing highly correlated features:\n",
            "            ABC  nAcid  nBase  nAromAtom  nAtom  nSpiro  nBridgehead  nHetero  \\\n",
            "0     52.913863      4      1         12    137       0            0       24   \n",
            "1     46.590342      3      1          6    127       0            0       22   \n",
            "2     38.167759      1      0          6    113       0            0       15   \n",
            "3     40.001350      1      0         12    108       0            0       14   \n",
            "4     45.617764      1      0         18    121       0            0       14   \n",
            "...         ...    ...    ...        ...    ...     ...          ...      ...   \n",
            "7454  33.656655      0      1         18     91       0            4        8   \n",
            "7455  31.535335      0      1         18     82       0            4        8   \n",
            "7456  32.949549      0      1         18     88       0            4        8   \n",
            "7457  32.242442      0      1         18     87       0            4        7   \n",
            "7458  32.949549      0      1         18     90       0            4        7   \n",
            "\n",
            "      nN  nO  ...    GGI3      GGI4      GGI5      GGI6      GGI7   VAdjMat  \\\n",
            "0      8  16  ...  4.8750  4.862222  3.458333  2.367347  2.000000  7.169925   \n",
            "1      8  14  ...  4.3125  4.551111  2.951389  1.938776  1.871528  6.977280   \n",
            "2      5   9  ...  3.8750  3.542222  1.937500  1.672653  1.211806  6.700440   \n",
            "3      5   9  ...  3.3750  3.204444  1.618056  1.631837  1.111111  6.781360   \n",
            "4      5   9  ...  3.8125  3.675556  1.958333  1.937959  1.404514  6.977280   \n",
            "...   ..  ..  ...     ...       ...       ...       ...       ...       ...   \n",
            "7454   3   5  ...  3.1250  2.444444  1.875000  1.120000  0.911458  6.554589   \n",
            "7455   3   5  ...  3.1250  2.364444  1.875000  1.120000  0.996528  6.459432   \n",
            "7456   3   5  ...  3.1250  2.444444  1.875000  1.079184  0.942708  6.523562   \n",
            "7457   3   4  ...  3.1250  2.444444  1.819444  1.120000  0.942708  6.491853   \n",
            "7458   3   4  ...  3.1250  2.444444  1.875000  1.079184  0.942708  6.523562   \n",
            "\n",
            "          MWC08  SRW05      TSRW10  WPath  \n",
            "0     10.829907    0.0  110.064076  28854  \n",
            "1     10.669211    0.0  101.362551  22054  \n",
            "2     10.451522    0.0   89.340175  13123  \n",
            "3     10.514258    0.0   90.661269  13440  \n",
            "4     10.688918    0.0   98.407890  18407  \n",
            "...         ...    ...         ...    ...  \n",
            "7454  10.527419    0.0   81.230254   7057  \n",
            "7455  10.507995    0.0   78.024556   5783  \n",
            "7456  10.520590    0.0   80.162768   6602  \n",
            "7457  10.513878    0.0   79.094215   6190  \n",
            "7458  10.520590    0.0   80.162768   6602  \n",
            "\n",
            "[7459 rows x 290 columns]\n"
          ]
        }
      ],
      "source": [
        "import pandas as pd\n",
        "\n",
        "# Step 1: Remove Low-Variance Features\n",
        "# Calculate variance for each feature\n",
        "variances = all_desc_numeric.var()\n",
        "\n",
        "# Define a threshold for low variance, for example, 0.1\n",
        "low_variance_features = variances[variances < 0.1].index\n",
        "\n",
        "# Remove low variance features from the DataFrame\n",
        "all_desc_filtered_low_variance = all_desc_numeric.drop(columns=low_variance_features)\n",
        "\n",
        "print(f\"Removed low-variance features: {low_variance_features.tolist()}\")\n",
        "print(\"Data after removing low-variance features:\")\n",
        "print(all_desc_filtered_low_variance)\n",
        "\n",
        "# Step 2: Remove Highly Correlated Features\n",
        "# Compute the correlation matrix\n",
        "corr_matrix = all_desc_filtered_low_variance.corr()\n",
        "\n",
        "# Set a correlation threshold, for example, 0.9\n",
        "threshold = 0.95\n",
        "\n",
        "# Find features that are highly correlated\n",
        "high_corr_features = set()\n",
        "\n",
        "# Iterate over the correlation matrix to find highly correlated features\n",
        "for i in range(len(corr_matrix.columns)):\n",
        "    for j in range(i):\n",
        "        if abs(corr_matrix.iloc[i, j]) > threshold:\n",
        "            colname = corr_matrix.columns[i]\n",
        "            high_corr_features.add(colname)\n",
        "\n",
        "# Remove highly correlated features from the DataFrame\n",
        "all_desc_filtered = all_desc_filtered_low_variance.drop(columns=high_corr_features)\n",
        "\n",
        "print(f\"Removed highly correlated features: {high_corr_features}\")\n",
        "print(\"Data after removing highly correlated features:\")\n",
        "print(all_desc_filtered)\n"
      ]
    },
    {
      "cell_type": "code",
      "execution_count": 143,
      "metadata": {},
      "outputs": [
        {
          "name": "stdout",
          "output_type": "stream",
          "text": [
            "Final descriptor count after feature selection: 377\n"
          ]
        }
      ],
      "source": [
        "variance_threshold = VarianceThreshold(threshold=0.01)  # Adjust threshold if needed\n",
        "X = variance_threshold.fit_transform(all_desc_numeric)\n",
        "\n",
        "# Convert back to DataFrame for correlation filtering\n",
        "X_df = pd.DataFrame(X)\n",
        "\n",
        "# Compute correlation matrix\n",
        "corr_matrix = X_df.corr().abs()\n",
        "\n",
        "# Identify features that are highly correlated (above 0.95)\n",
        "upper_triangle = corr_matrix.where(np.triu(np.ones(corr_matrix.shape), k=1).astype(bool))\n",
        "to_drop = [column for column in upper_triangle.columns if any(upper_triangle[column] > 0.95)]\n",
        "\n",
        "# Drop highly correlated descriptors\n",
        "X_df = X_df.drop(columns=to_drop)\n",
        "X = X_df.values  # Convert back to NumPy\n",
        "\n",
        "print(f\"Final descriptor count after feature selection: {X.shape[1]}\")\n"
      ]
    },
    {
      "cell_type": "markdown",
      "metadata": {
        "id": "aRD5TZDt-ln6"
      },
      "source": [
        "### Define Genetic Algorithm Setup  \n"
      ]
    },
    {
      "cell_type": "code",
      "execution_count": null,
      "metadata": {
        "id": "qkv1U6YE-kP4"
      },
      "outputs": [],
      "source": [
        "# Genetic Algorithm Parameters\n",
        "population_size = 50\n",
        "generations = 200\n",
        "crossover_prob = 0.9\n",
        "mutation_prob = 0.05\n",
        "stagnation_limit = 10  # Stop if best subset remains unchanged for 10 generations\n",
        "\n",
        "# Define GA structure\n",
        "creator.create(\"FitnessMax\", base.Fitness, weights=(1.0,))\n",
        "creator.create(\"Individual\", list, fitness=creator.FitnessMax)\n",
        "\n",
        "# Generate initial population (random feature subsets)\n",
        "def random_subset():\n",
        "    return [random.randint(0, 1) for _ in range(num_features)]\n",
        "\n",
        "toolbox = base.Toolbox()\n",
        "toolbox.register(\"individual\", tools.initIterate, creator.Individual, random_subset)\n",
        "toolbox.register(\"population\", tools.initRepeat, list, toolbox.individual)\n"
      ]
    },
    {
      "cell_type": "markdown",
      "metadata": {
        "id": "Tmcq0ZmX-6Y1"
      },
      "source": [
        "### Define Fitness Function\n",
        "Fitness function: Evaluate selected descriptors using Random Forest + Cross-validation\n",
        "\n"
      ]
    },
    {
      "cell_type": "code",
      "execution_count": null,
      "metadata": {
        "id": "cUa50k2T-5Qo"
      },
      "outputs": [],
      "source": [
        "# Fitness function: Evaluate selected descriptors using Random Forest + Cross-validation\n",
        "def evaluate(individual):\n",
        "    selected_features = [i for i in range(num_features) if individual[i] == 1]\n",
        "\n",
        "    # If no features are selected, return worst fitness\n",
        "    if len(selected_features) == 0:\n",
        "        return (0,)\n",
        "\n",
        "    X_selected = X[:, selected_features].astype(np.float64)\n",
        "    model = RandomForestClassifier(n_estimators=100, random_state=42)\n",
        "    scores = cross_val_score(model, X_selected, y, cv=10, scoring='accuracy')\n",
        "\n",
        "    return (np.mean(scores),)\n",
        "\n"
      ]
    },
    {
      "cell_type": "markdown",
      "metadata": {
        "id": "tbBK2KYP_LKy"
      },
      "source": [
        "###  Register Genetic Operators\n",
        "Define crossover, mutation, and selection methods  \n",
        "\n",
        "mate:Two parents combine  \n",
        "\n",
        "nutate: Flip feature selection bits  \n",
        "\n",
        "select: Tournament selection"
      ]
    },
    {
      "cell_type": "code",
      "execution_count": null,
      "metadata": {
        "id": "NecTmhlh_KLo"
      },
      "outputs": [],
      "source": [
        "toolbox.register(\"evaluate\", evaluate)\n",
        "toolbox.register(\"mate\", tools.cxTwoPoint)\n",
        "toolbox.register(\"mutate\", tools.mutFlipBit, indpb=mutation_prob)\n",
        "toolbox.register(\"select\", tools.selTournament, tournsize=3)"
      ]
    },
    {
      "cell_type": "markdown",
      "metadata": {
        "id": "ZpQ8djnR_sX7"
      },
      "source": [
        "### Running the Genetic Algorithm"
      ]
    },
    {
      "cell_type": "code",
      "execution_count": null,
      "metadata": {
        "colab": {
          "base_uri": "https://localhost:8080/"
        },
        "id": "HqF3eBcQMtya",
        "outputId": "087e9d73-24d5-4f88-f43a-3ec8549fda3b"
      },
      "outputs": [
        {
          "name": "stdout",
          "output_type": "stream",
          "text": [
            "0\n"
          ]
        }
      ],
      "source": [
        "print(np.sum(np.isinf(y)))"
      ]
    },
    {
      "cell_type": "code",
      "execution_count": null,
      "metadata": {
        "colab": {
          "base_uri": "https://localhost:8080/",
          "height": 1000
        },
        "collapsed": true,
        "id": "46tGdwnq_rOv",
        "outputId": "6be6019a-e49e-48c0-ca90-9e247af056c7"
      },
      "outputs": [
        {
          "name": "stderr",
          "output_type": "stream",
          "text": [
            "/usr/local/lib/python3.11/dist-packages/sklearn/utils/_array_api.py:839: RuntimeWarning: overflow encountered in cast\n",
            "  array = numpy.asarray(array, order=order, dtype=dtype)\n",
            "/usr/local/lib/python3.11/dist-packages/sklearn/utils/_array_api.py:839: RuntimeWarning: overflow encountered in cast\n",
            "  array = numpy.asarray(array, order=order, dtype=dtype)\n",
            "/usr/local/lib/python3.11/dist-packages/sklearn/utils/_array_api.py:839: RuntimeWarning: overflow encountered in cast\n",
            "  array = numpy.asarray(array, order=order, dtype=dtype)\n",
            "/usr/local/lib/python3.11/dist-packages/sklearn/utils/_array_api.py:839: RuntimeWarning: overflow encountered in cast\n",
            "  array = numpy.asarray(array, order=order, dtype=dtype)\n",
            "/usr/local/lib/python3.11/dist-packages/sklearn/utils/_array_api.py:839: RuntimeWarning: overflow encountered in cast\n",
            "  array = numpy.asarray(array, order=order, dtype=dtype)\n",
            "/usr/local/lib/python3.11/dist-packages/sklearn/utils/_array_api.py:839: RuntimeWarning: overflow encountered in cast\n",
            "  array = numpy.asarray(array, order=order, dtype=dtype)\n",
            "/usr/local/lib/python3.11/dist-packages/sklearn/utils/_array_api.py:839: RuntimeWarning: overflow encountered in cast\n",
            "  array = numpy.asarray(array, order=order, dtype=dtype)\n",
            "/usr/local/lib/python3.11/dist-packages/sklearn/utils/_array_api.py:839: RuntimeWarning: overflow encountered in cast\n",
            "  array = numpy.asarray(array, order=order, dtype=dtype)\n",
            "/usr/local/lib/python3.11/dist-packages/sklearn/utils/_array_api.py:839: RuntimeWarning: overflow encountered in cast\n",
            "  array = numpy.asarray(array, order=order, dtype=dtype)\n",
            "/usr/local/lib/python3.11/dist-packages/sklearn/utils/_array_api.py:839: RuntimeWarning: overflow encountered in cast\n",
            "  array = numpy.asarray(array, order=order, dtype=dtype)\n"
          ]
        },
        {
          "ename": "ValueError",
          "evalue": "\nAll the 10 fits failed.\nIt is very likely that your model is misconfigured.\nYou can try to debug the error by setting error_score='raise'.\n\nBelow are more details about the failures:\n--------------------------------------------------------------------------------\n10 fits failed with the following error:\nTraceback (most recent call last):\n  File \"/usr/local/lib/python3.11/dist-packages/sklearn/model_selection/_validation.py\", line 866, in _fit_and_score\n    estimator.fit(X_train, y_train, **fit_params)\n  File \"/usr/local/lib/python3.11/dist-packages/sklearn/base.py\", line 1389, in wrapper\n    return fit_method(estimator, *args, **kwargs)\n           ^^^^^^^^^^^^^^^^^^^^^^^^^^^^^^^^^^^^^^\n  File \"/usr/local/lib/python3.11/dist-packages/sklearn/ensemble/_forest.py\", line 375, in fit\n    estimator._compute_missing_values_in_feature_mask(\n  File \"/usr/local/lib/python3.11/dist-packages/sklearn/tree/_classes.py\", line 222, in _compute_missing_values_in_feature_mask\n    _assert_all_finite_element_wise(X, xp=np, allow_nan=True, **common_kwargs)\n  File \"/usr/local/lib/python3.11/dist-packages/sklearn/utils/validation.py\", line 169, in _assert_all_finite_element_wise\n    raise ValueError(msg_err)\nValueError: Input X contains infinity or a value too large for dtype('float32').\n",
          "output_type": "error",
          "traceback": [
            "\u001b[0;31m---------------------------------------------------------------------------\u001b[0m",
            "\u001b[0;31mValueError\u001b[0m                                Traceback (most recent call last)",
            "\u001b[0;32m<ipython-input-13-255f7f2cfbe2>\u001b[0m in \u001b[0;36m<cell line: 0>\u001b[0;34m()\u001b[0m\n\u001b[1;32m     34\u001b[0m \u001b[0;34m\u001b[0m\u001b[0m\n\u001b[1;32m     35\u001b[0m \u001b[0;31m# Run GA feature selection\u001b[0m\u001b[0;34m\u001b[0m\u001b[0;34m\u001b[0m\u001b[0m\n\u001b[0;32m---> 36\u001b[0;31m \u001b[0mselected_descriptors\u001b[0m \u001b[0;34m=\u001b[0m \u001b[0mrun_ga\u001b[0m\u001b[0;34m(\u001b[0m\u001b[0;34m)\u001b[0m\u001b[0;34m\u001b[0m\u001b[0;34m\u001b[0m\u001b[0m\n\u001b[0m",
            "\u001b[0;32m<ipython-input-13-255f7f2cfbe2>\u001b[0m in \u001b[0;36mrun_ga\u001b[0;34m()\u001b[0m\n\u001b[1;32m      6\u001b[0m     \u001b[0;32mfor\u001b[0m \u001b[0mgen\u001b[0m \u001b[0;32min\u001b[0m \u001b[0mrange\u001b[0m\u001b[0;34m(\u001b[0m\u001b[0mgenerations\u001b[0m\u001b[0;34m)\u001b[0m\u001b[0;34m:\u001b[0m\u001b[0;34m\u001b[0m\u001b[0;34m\u001b[0m\u001b[0m\n\u001b[1;32m      7\u001b[0m         \u001b[0moffspring\u001b[0m \u001b[0;34m=\u001b[0m \u001b[0malgorithms\u001b[0m\u001b[0;34m.\u001b[0m\u001b[0mvarAnd\u001b[0m\u001b[0;34m(\u001b[0m\u001b[0mpopulation\u001b[0m\u001b[0;34m,\u001b[0m \u001b[0mtoolbox\u001b[0m\u001b[0;34m,\u001b[0m \u001b[0mcxpb\u001b[0m\u001b[0;34m=\u001b[0m\u001b[0mcrossover_prob\u001b[0m\u001b[0;34m,\u001b[0m \u001b[0mmutpb\u001b[0m\u001b[0;34m=\u001b[0m\u001b[0mmutation_prob\u001b[0m\u001b[0;34m)\u001b[0m\u001b[0;34m\u001b[0m\u001b[0;34m\u001b[0m\u001b[0m\n\u001b[0;32m----> 8\u001b[0;31m         \u001b[0mfits\u001b[0m \u001b[0;34m=\u001b[0m \u001b[0mlist\u001b[0m\u001b[0;34m(\u001b[0m\u001b[0mmap\u001b[0m\u001b[0;34m(\u001b[0m\u001b[0mtoolbox\u001b[0m\u001b[0;34m.\u001b[0m\u001b[0mevaluate\u001b[0m\u001b[0;34m,\u001b[0m \u001b[0moffspring\u001b[0m\u001b[0;34m)\u001b[0m\u001b[0;34m)\u001b[0m\u001b[0;34m\u001b[0m\u001b[0;34m\u001b[0m\u001b[0m\n\u001b[0m\u001b[1;32m      9\u001b[0m \u001b[0;34m\u001b[0m\u001b[0m\n\u001b[1;32m     10\u001b[0m         \u001b[0;32mfor\u001b[0m \u001b[0mind\u001b[0m\u001b[0;34m,\u001b[0m \u001b[0mfit\u001b[0m \u001b[0;32min\u001b[0m \u001b[0mzip\u001b[0m\u001b[0;34m(\u001b[0m\u001b[0moffspring\u001b[0m\u001b[0;34m,\u001b[0m \u001b[0mfits\u001b[0m\u001b[0;34m)\u001b[0m\u001b[0;34m:\u001b[0m\u001b[0;34m\u001b[0m\u001b[0;34m\u001b[0m\u001b[0m\n",
            "\u001b[0;32m<ipython-input-11-3666539a1a76>\u001b[0m in \u001b[0;36mevaluate\u001b[0;34m(individual)\u001b[0m\n\u001b[1;32m      9\u001b[0m     \u001b[0mX_selected\u001b[0m \u001b[0;34m=\u001b[0m \u001b[0mX\u001b[0m\u001b[0;34m[\u001b[0m\u001b[0;34m:\u001b[0m\u001b[0;34m,\u001b[0m \u001b[0mselected_features\u001b[0m\u001b[0;34m]\u001b[0m\u001b[0;34m.\u001b[0m\u001b[0mastype\u001b[0m\u001b[0;34m(\u001b[0m\u001b[0mnp\u001b[0m\u001b[0;34m.\u001b[0m\u001b[0mfloat64\u001b[0m\u001b[0;34m)\u001b[0m\u001b[0;34m\u001b[0m\u001b[0;34m\u001b[0m\u001b[0m\n\u001b[1;32m     10\u001b[0m     \u001b[0mmodel\u001b[0m \u001b[0;34m=\u001b[0m \u001b[0mRandomForestClassifier\u001b[0m\u001b[0;34m(\u001b[0m\u001b[0mn_estimators\u001b[0m\u001b[0;34m=\u001b[0m\u001b[0;36m100\u001b[0m\u001b[0;34m,\u001b[0m \u001b[0mrandom_state\u001b[0m\u001b[0;34m=\u001b[0m\u001b[0;36m42\u001b[0m\u001b[0;34m)\u001b[0m\u001b[0;34m\u001b[0m\u001b[0;34m\u001b[0m\u001b[0m\n\u001b[0;32m---> 11\u001b[0;31m     \u001b[0mscores\u001b[0m \u001b[0;34m=\u001b[0m \u001b[0mcross_val_score\u001b[0m\u001b[0;34m(\u001b[0m\u001b[0mmodel\u001b[0m\u001b[0;34m,\u001b[0m \u001b[0mX_selected\u001b[0m\u001b[0;34m,\u001b[0m \u001b[0my\u001b[0m\u001b[0;34m,\u001b[0m \u001b[0mcv\u001b[0m\u001b[0;34m=\u001b[0m\u001b[0;36m10\u001b[0m\u001b[0;34m,\u001b[0m \u001b[0mscoring\u001b[0m\u001b[0;34m=\u001b[0m\u001b[0;34m'accuracy'\u001b[0m\u001b[0;34m)\u001b[0m\u001b[0;34m\u001b[0m\u001b[0;34m\u001b[0m\u001b[0m\n\u001b[0m\u001b[1;32m     12\u001b[0m \u001b[0;34m\u001b[0m\u001b[0m\n\u001b[1;32m     13\u001b[0m     \u001b[0;32mreturn\u001b[0m \u001b[0;34m(\u001b[0m\u001b[0mnp\u001b[0m\u001b[0;34m.\u001b[0m\u001b[0mmean\u001b[0m\u001b[0;34m(\u001b[0m\u001b[0mscores\u001b[0m\u001b[0;34m)\u001b[0m\u001b[0;34m,\u001b[0m\u001b[0;34m)\u001b[0m\u001b[0;34m\u001b[0m\u001b[0;34m\u001b[0m\u001b[0m\n",
            "\u001b[0;32m/usr/local/lib/python3.11/dist-packages/sklearn/utils/_param_validation.py\u001b[0m in \u001b[0;36mwrapper\u001b[0;34m(*args, **kwargs)\u001b[0m\n\u001b[1;32m    214\u001b[0m                     )\n\u001b[1;32m    215\u001b[0m                 ):\n\u001b[0;32m--> 216\u001b[0;31m                     \u001b[0;32mreturn\u001b[0m \u001b[0mfunc\u001b[0m\u001b[0;34m(\u001b[0m\u001b[0;34m*\u001b[0m\u001b[0margs\u001b[0m\u001b[0;34m,\u001b[0m \u001b[0;34m**\u001b[0m\u001b[0mkwargs\u001b[0m\u001b[0;34m)\u001b[0m\u001b[0;34m\u001b[0m\u001b[0;34m\u001b[0m\u001b[0m\n\u001b[0m\u001b[1;32m    217\u001b[0m             \u001b[0;32mexcept\u001b[0m \u001b[0mInvalidParameterError\u001b[0m \u001b[0;32mas\u001b[0m \u001b[0me\u001b[0m\u001b[0;34m:\u001b[0m\u001b[0;34m\u001b[0m\u001b[0;34m\u001b[0m\u001b[0m\n\u001b[1;32m    218\u001b[0m                 \u001b[0;31m# When the function is just a wrapper around an estimator, we allow\u001b[0m\u001b[0;34m\u001b[0m\u001b[0;34m\u001b[0m\u001b[0m\n",
            "\u001b[0;32m/usr/local/lib/python3.11/dist-packages/sklearn/model_selection/_validation.py\u001b[0m in \u001b[0;36mcross_val_score\u001b[0;34m(estimator, X, y, groups, scoring, cv, n_jobs, verbose, params, pre_dispatch, error_score)\u001b[0m\n\u001b[1;32m    682\u001b[0m     \u001b[0mscorer\u001b[0m \u001b[0;34m=\u001b[0m \u001b[0mcheck_scoring\u001b[0m\u001b[0;34m(\u001b[0m\u001b[0mestimator\u001b[0m\u001b[0;34m,\u001b[0m \u001b[0mscoring\u001b[0m\u001b[0;34m=\u001b[0m\u001b[0mscoring\u001b[0m\u001b[0;34m)\u001b[0m\u001b[0;34m\u001b[0m\u001b[0;34m\u001b[0m\u001b[0m\n\u001b[1;32m    683\u001b[0m \u001b[0;34m\u001b[0m\u001b[0m\n\u001b[0;32m--> 684\u001b[0;31m     cv_results = cross_validate(\n\u001b[0m\u001b[1;32m    685\u001b[0m         \u001b[0mestimator\u001b[0m\u001b[0;34m=\u001b[0m\u001b[0mestimator\u001b[0m\u001b[0;34m,\u001b[0m\u001b[0;34m\u001b[0m\u001b[0;34m\u001b[0m\u001b[0m\n\u001b[1;32m    686\u001b[0m         \u001b[0mX\u001b[0m\u001b[0;34m=\u001b[0m\u001b[0mX\u001b[0m\u001b[0;34m,\u001b[0m\u001b[0;34m\u001b[0m\u001b[0;34m\u001b[0m\u001b[0m\n",
            "\u001b[0;32m/usr/local/lib/python3.11/dist-packages/sklearn/utils/_param_validation.py\u001b[0m in \u001b[0;36mwrapper\u001b[0;34m(*args, **kwargs)\u001b[0m\n\u001b[1;32m    214\u001b[0m                     )\n\u001b[1;32m    215\u001b[0m                 ):\n\u001b[0;32m--> 216\u001b[0;31m                     \u001b[0;32mreturn\u001b[0m \u001b[0mfunc\u001b[0m\u001b[0;34m(\u001b[0m\u001b[0;34m*\u001b[0m\u001b[0margs\u001b[0m\u001b[0;34m,\u001b[0m \u001b[0;34m**\u001b[0m\u001b[0mkwargs\u001b[0m\u001b[0;34m)\u001b[0m\u001b[0;34m\u001b[0m\u001b[0;34m\u001b[0m\u001b[0m\n\u001b[0m\u001b[1;32m    217\u001b[0m             \u001b[0;32mexcept\u001b[0m \u001b[0mInvalidParameterError\u001b[0m \u001b[0;32mas\u001b[0m \u001b[0me\u001b[0m\u001b[0;34m:\u001b[0m\u001b[0;34m\u001b[0m\u001b[0;34m\u001b[0m\u001b[0m\n\u001b[1;32m    218\u001b[0m                 \u001b[0;31m# When the function is just a wrapper around an estimator, we allow\u001b[0m\u001b[0;34m\u001b[0m\u001b[0;34m\u001b[0m\u001b[0m\n",
            "\u001b[0;32m/usr/local/lib/python3.11/dist-packages/sklearn/model_selection/_validation.py\u001b[0m in \u001b[0;36mcross_validate\u001b[0;34m(estimator, X, y, groups, scoring, cv, n_jobs, verbose, params, pre_dispatch, return_train_score, return_estimator, return_indices, error_score)\u001b[0m\n\u001b[1;32m    429\u001b[0m     )\n\u001b[1;32m    430\u001b[0m \u001b[0;34m\u001b[0m\u001b[0m\n\u001b[0;32m--> 431\u001b[0;31m     \u001b[0m_warn_or_raise_about_fit_failures\u001b[0m\u001b[0;34m(\u001b[0m\u001b[0mresults\u001b[0m\u001b[0;34m,\u001b[0m \u001b[0merror_score\u001b[0m\u001b[0;34m)\u001b[0m\u001b[0;34m\u001b[0m\u001b[0;34m\u001b[0m\u001b[0m\n\u001b[0m\u001b[1;32m    432\u001b[0m \u001b[0;34m\u001b[0m\u001b[0m\n\u001b[1;32m    433\u001b[0m     \u001b[0;31m# For callable scoring, the return type is only know after calling. If the\u001b[0m\u001b[0;34m\u001b[0m\u001b[0;34m\u001b[0m\u001b[0m\n",
            "\u001b[0;32m/usr/local/lib/python3.11/dist-packages/sklearn/model_selection/_validation.py\u001b[0m in \u001b[0;36m_warn_or_raise_about_fit_failures\u001b[0;34m(results, error_score)\u001b[0m\n\u001b[1;32m    515\u001b[0m                 \u001b[0;34mf\"Below are more details about the failures:\\n{fit_errors_summary}\"\u001b[0m\u001b[0;34m\u001b[0m\u001b[0;34m\u001b[0m\u001b[0m\n\u001b[1;32m    516\u001b[0m             )\n\u001b[0;32m--> 517\u001b[0;31m             \u001b[0;32mraise\u001b[0m \u001b[0mValueError\u001b[0m\u001b[0;34m(\u001b[0m\u001b[0mall_fits_failed_message\u001b[0m\u001b[0;34m)\u001b[0m\u001b[0;34m\u001b[0m\u001b[0;34m\u001b[0m\u001b[0m\n\u001b[0m\u001b[1;32m    518\u001b[0m \u001b[0;34m\u001b[0m\u001b[0m\n\u001b[1;32m    519\u001b[0m         \u001b[0;32melse\u001b[0m\u001b[0;34m:\u001b[0m\u001b[0;34m\u001b[0m\u001b[0;34m\u001b[0m\u001b[0m\n",
            "\u001b[0;31mValueError\u001b[0m: \nAll the 10 fits failed.\nIt is very likely that your model is misconfigured.\nYou can try to debug the error by setting error_score='raise'.\n\nBelow are more details about the failures:\n--------------------------------------------------------------------------------\n10 fits failed with the following error:\nTraceback (most recent call last):\n  File \"/usr/local/lib/python3.11/dist-packages/sklearn/model_selection/_validation.py\", line 866, in _fit_and_score\n    estimator.fit(X_train, y_train, **fit_params)\n  File \"/usr/local/lib/python3.11/dist-packages/sklearn/base.py\", line 1389, in wrapper\n    return fit_method(estimator, *args, **kwargs)\n           ^^^^^^^^^^^^^^^^^^^^^^^^^^^^^^^^^^^^^^\n  File \"/usr/local/lib/python3.11/dist-packages/sklearn/ensemble/_forest.py\", line 375, in fit\n    estimator._compute_missing_values_in_feature_mask(\n  File \"/usr/local/lib/python3.11/dist-packages/sklearn/tree/_classes.py\", line 222, in _compute_missing_values_in_feature_mask\n    _assert_all_finite_element_wise(X, xp=np, allow_nan=True, **common_kwargs)\n  File \"/usr/local/lib/python3.11/dist-packages/sklearn/utils/validation.py\", line 169, in _assert_all_finite_element_wise\n    raise ValueError(msg_err)\nValueError: Input X contains infinity or a value too large for dtype('float32').\n"
          ]
        }
      ],
      "source": [
        "def run_ga():\n",
        "    population = toolbox.population(n=population_size)\n",
        "    best_fitness = 0\n",
        "    stagnation_counter = 0\n",
        "\n",
        "    for gen in range(generations):\n",
        "        offspring = algorithms.varAnd(population, toolbox, cxpb=crossover_prob, mutpb=mutation_prob)\n",
        "        fits = list(map(toolbox.evaluate, offspring))\n",
        "\n",
        "        for ind, fit in zip(offspring, fits):\n",
        "            ind.fitness.values = fit\n",
        "\n",
        "        population = toolbox.select(offspring, k=len(population))\n",
        "        current_best = max(population, key=lambda ind: ind.fitness.values[0])\n",
        "\n",
        "        # Stagnation Check\n",
        "        if current_best.fitness.values[0] > best_fitness:\n",
        "            best_fitness = current_best.fitness.values[0]\n",
        "            stagnation_counter = 0\n",
        "        else:\n",
        "            stagnation_counter += 1\n",
        "\n",
        "        if stagnation_counter >= stagnation_limit:\n",
        "            print(f\"GA converged after {gen+1} generations.\")\n",
        "            break\n",
        "\n",
        "    best_subset = max(population, key=lambda ind: ind.fitness.values[0])\n",
        "    selected_features = [descriptor_names[i] for i in range(num_features) if best_subset[i] == 1]\n",
        "\n",
        "    print(f\"Best accuracy: {best_fitness:.4f}\")\n",
        "    print(f\"Selected descriptors: {selected_features}\")\n",
        "\n",
        "    return selected_features\n",
        "\n",
        "# Run GA feature selection\n",
        "selected_descriptors = run_ga()\n"
      ]
    },
    {
      "cell_type": "markdown",
      "metadata": {
        "id": "mNcVLSUnEgT4"
      },
      "source": [
        " Filter the dataset with selected descriptors"
      ]
    },
    {
      "cell_type": "code",
      "execution_count": null,
      "metadata": {
        "id": "gfWcTCGQEaBC"
      },
      "outputs": [],
      "source": [
        "X_selected = X_df[selected_descriptors].values\n"
      ]
    },
    {
      "cell_type": "code",
      "execution_count": null,
      "metadata": {},
      "outputs": [],
      "source": []
    },
    {
      "cell_type": "markdown",
      "metadata": {
        "id": "GiKUbOL_F83v"
      },
      "source": [
        "## 2D PCA Visualization of Chemical *Space*"
      ]
    },
    {
      "cell_type": "code",
      "execution_count": null,
      "metadata": {
        "colab": {
          "base_uri": "https://localhost:8080/",
          "height": 211
        },
        "id": "hA0zyDIpEiWq",
        "outputId": "7e706586-22bd-4b8a-bb03-643b5c3c1dd3"
      },
      "outputs": [
        {
          "ename": "NameError",
          "evalue": "name 'PCA' is not defined",
          "output_type": "error",
          "traceback": [
            "\u001b[0;31m---------------------------------------------------------------------------\u001b[0m",
            "\u001b[0;31mNameError\u001b[0m                                 Traceback (most recent call last)",
            "\u001b[0;32m<ipython-input-1-c5d8502f38e3>\u001b[0m in \u001b[0;36m<cell line: 0>\u001b[0;34m()\u001b[0m\n\u001b[1;32m      1\u001b[0m \u001b[0;31m# Apply PCA for dimensionality reduction to 2D\u001b[0m\u001b[0;34m\u001b[0m\u001b[0;34m\u001b[0m\u001b[0m\n\u001b[0;32m----> 2\u001b[0;31m \u001b[0mpca\u001b[0m \u001b[0;34m=\u001b[0m \u001b[0mPCA\u001b[0m\u001b[0;34m(\u001b[0m\u001b[0mn_components\u001b[0m\u001b[0;34m=\u001b[0m\u001b[0;36m2\u001b[0m\u001b[0;34m)\u001b[0m\u001b[0;34m\u001b[0m\u001b[0;34m\u001b[0m\u001b[0m\n\u001b[0m\u001b[1;32m      3\u001b[0m \u001b[0mX_pca\u001b[0m \u001b[0;34m=\u001b[0m \u001b[0mpca\u001b[0m\u001b[0;34m.\u001b[0m\u001b[0mfit_transform\u001b[0m\u001b[0;34m(\u001b[0m\u001b[0mX_selected\u001b[0m\u001b[0;34m)\u001b[0m\u001b[0;34m\u001b[0m\u001b[0;34m\u001b[0m\u001b[0m\n\u001b[1;32m      4\u001b[0m \u001b[0;34m\u001b[0m\u001b[0m\n\u001b[1;32m      5\u001b[0m \u001b[0;31m# Convert to DataFrame\u001b[0m\u001b[0;34m\u001b[0m\u001b[0;34m\u001b[0m\u001b[0m\n",
            "\u001b[0;31mNameError\u001b[0m: name 'PCA' is not defined"
          ]
        }
      ],
      "source": [
        "# Apply PCA for dimensionality reduction to 2D\n",
        "pca = PCA(n_components=2)\n",
        "X_pca = pca.fit_transform(X_selected)\n",
        "\n",
        "# Convert to DataFrame\n",
        "pca_df = pd.DataFrame(X_pca, columns=[\"PC1\", \"PC2\"])\n",
        "pca_df[\"Activity\"] = y\n",
        "\n",
        "# Plot chemical space using PCA\n",
        "plt.figure(figsize=(8, 6))\n",
        "sns.scatterplot(data=pca_df, x=\"PC1\", y=\"PC2\", hue=\"Activity\", palette=[\"red\", \"blue\"], alpha=0.7)\n",
        "plt.title(\"Chemical Space Visualization using PCA (Selected Descriptors)\")\n",
        "plt.xlabel(\"Principal Component 1\")\n",
        "plt.ylabel(\"Principal Component 2\")\n",
        "plt.legend(title=\"Activity\", labels=[\"Inactive\", \"Active\"])\n",
        "plt.show()\n"
      ]
    },
    {
      "cell_type": "markdown",
      "metadata": {
        "id": "fLjlTl7cEhlr"
      },
      "source": [
        "2D t-SNE Visualization of Chemical Space"
      ]
    },
    {
      "cell_type": "code",
      "execution_count": null,
      "metadata": {
        "id": "Z4kRal_tInQE"
      },
      "outputs": [],
      "source": [
        "# Apply t-SNE for non-linear dimensionality reduction\n",
        "tsne = TSNE(n_components=2, perplexity=30, random_state=42)\n",
        "X_tsne = tsne.fit_transform(X_selected)\n",
        "\n",
        "# Convert to DataFrame\n",
        "tsne_df = pd.DataFrame(X_tsne, columns=[\"t-SNE1\", \"t-SNE2\"])\n",
        "tsne_df[\"Activity\"] = y\n",
        "\n",
        "# Plot chemical space using t-SNE\n",
        "plt.figure(figsize=(8, 6))\n",
        "sns.scatterplot(data=tsne_df, x=\"t-SNE1\", y=\"t-SNE2\", hue=\"Activity\", palette=[\"red\", \"blue\"], alpha=0.7)\n",
        "plt.title(\"Chemical Space Visualization using t-SNE (Selected Descriptors)\")\n",
        "plt.xlabel(\"t-SNE Component 1\")\n",
        "plt.ylabel(\"t-SNE Component 2\")\n",
        "plt.legend(title=\"Activity\", labels=[\"Inactive\", \"Active\"])\n",
        "plt.show()\n"
      ]
    },
    {
      "cell_type": "markdown",
      "metadata": {
        "id": "7obXlQtmEi24"
      },
      "source": [
        "## Train and Evaluate Ensemble Models"
      ]
    },
    {
      "cell_type": "code",
      "execution_count": null,
      "metadata": {
        "colab": {
          "base_uri": "https://localhost:8080/",
          "height": 443
        },
        "id": "C3fKfqgGEjaU",
        "outputId": "54e7cd79-aeb3-4800-e5c8-3b228c09e9c5"
      },
      "outputs": [
        {
          "name": "stdout",
          "output_type": "stream",
          "text": [
            "AdaBoost Accuracy: 0.5000\n"
          ]
        },
        {
          "ename": "ValueError",
          "evalue": "Input X contains NaN.\nGradientBoostingClassifier does not accept missing values encoded as NaN natively. For supervised learning, you might want to consider sklearn.ensemble.HistGradientBoostingClassifier and Regressor which accept missing values encoded as NaNs natively. Alternatively, it is possible to preprocess the data, for instance by using an imputer transformer in a pipeline or drop samples with missing values. See https://scikit-learn.org/stable/modules/impute.html You can find a list of all estimators that handle NaN values at the following page: https://scikit-learn.org/stable/modules/impute.html#estimators-that-handle-nan-values",
          "output_type": "error",
          "traceback": [
            "\u001b[0;31m---------------------------------------------------------------------------\u001b[0m",
            "\u001b[0;31mValueError\u001b[0m                                Traceback (most recent call last)",
            "\u001b[0;32m<ipython-input-39-7600bca937c1>\u001b[0m in \u001b[0;36m<cell line: 0>\u001b[0;34m()\u001b[0m\n\u001b[1;32m     16\u001b[0m \u001b[0;31m# Train and evaluate each model\u001b[0m\u001b[0;34m\u001b[0m\u001b[0;34m\u001b[0m\u001b[0m\n\u001b[1;32m     17\u001b[0m \u001b[0;32mfor\u001b[0m \u001b[0mname\u001b[0m\u001b[0;34m,\u001b[0m \u001b[0mmodel\u001b[0m \u001b[0;32min\u001b[0m \u001b[0mmodels\u001b[0m\u001b[0;34m.\u001b[0m\u001b[0mitems\u001b[0m\u001b[0;34m(\u001b[0m\u001b[0;34m)\u001b[0m\u001b[0;34m:\u001b[0m\u001b[0;34m\u001b[0m\u001b[0;34m\u001b[0m\u001b[0m\n\u001b[0;32m---> 18\u001b[0;31m     \u001b[0mmodel\u001b[0m\u001b[0;34m.\u001b[0m\u001b[0mfit\u001b[0m\u001b[0;34m(\u001b[0m\u001b[0mX_train\u001b[0m\u001b[0;34m,\u001b[0m \u001b[0my_train\u001b[0m\u001b[0;34m)\u001b[0m  \u001b[0;31m# Train model\u001b[0m\u001b[0;34m\u001b[0m\u001b[0;34m\u001b[0m\u001b[0m\n\u001b[0m\u001b[1;32m     19\u001b[0m     \u001b[0my_pred\u001b[0m \u001b[0;34m=\u001b[0m \u001b[0mmodel\u001b[0m\u001b[0;34m.\u001b[0m\u001b[0mpredict\u001b[0m\u001b[0;34m(\u001b[0m\u001b[0mX_test\u001b[0m\u001b[0;34m)\u001b[0m  \u001b[0;31m# Make predictions\u001b[0m\u001b[0;34m\u001b[0m\u001b[0;34m\u001b[0m\u001b[0m\n\u001b[1;32m     20\u001b[0m     \u001b[0maccuracy\u001b[0m \u001b[0;34m=\u001b[0m \u001b[0maccuracy_score\u001b[0m\u001b[0;34m(\u001b[0m\u001b[0my_test\u001b[0m\u001b[0;34m,\u001b[0m \u001b[0my_pred\u001b[0m\u001b[0;34m)\u001b[0m  \u001b[0;31m# Compute accuracy\u001b[0m\u001b[0;34m\u001b[0m\u001b[0;34m\u001b[0m\u001b[0m\n",
            "\u001b[0;32m/usr/local/lib/python3.11/dist-packages/sklearn/base.py\u001b[0m in \u001b[0;36mwrapper\u001b[0;34m(estimator, *args, **kwargs)\u001b[0m\n\u001b[1;32m   1387\u001b[0m                 )\n\u001b[1;32m   1388\u001b[0m             ):\n\u001b[0;32m-> 1389\u001b[0;31m                 \u001b[0;32mreturn\u001b[0m \u001b[0mfit_method\u001b[0m\u001b[0;34m(\u001b[0m\u001b[0mestimator\u001b[0m\u001b[0;34m,\u001b[0m \u001b[0;34m*\u001b[0m\u001b[0margs\u001b[0m\u001b[0;34m,\u001b[0m \u001b[0;34m**\u001b[0m\u001b[0mkwargs\u001b[0m\u001b[0;34m)\u001b[0m\u001b[0;34m\u001b[0m\u001b[0;34m\u001b[0m\u001b[0m\n\u001b[0m\u001b[1;32m   1390\u001b[0m \u001b[0;34m\u001b[0m\u001b[0m\n\u001b[1;32m   1391\u001b[0m         \u001b[0;32mreturn\u001b[0m \u001b[0mwrapper\u001b[0m\u001b[0;34m\u001b[0m\u001b[0;34m\u001b[0m\u001b[0m\n",
            "\u001b[0;32m/usr/local/lib/python3.11/dist-packages/sklearn/ensemble/_gb.py\u001b[0m in \u001b[0;36mfit\u001b[0;34m(self, X, y, sample_weight, monitor)\u001b[0m\n\u001b[1;32m    656\u001b[0m         \u001b[0;31m# trees use different types for X and y, checking them separately.\u001b[0m\u001b[0;34m\u001b[0m\u001b[0;34m\u001b[0m\u001b[0m\n\u001b[1;32m    657\u001b[0m \u001b[0;34m\u001b[0m\u001b[0m\n\u001b[0;32m--> 658\u001b[0;31m         X, y = validate_data(\n\u001b[0m\u001b[1;32m    659\u001b[0m             \u001b[0mself\u001b[0m\u001b[0;34m,\u001b[0m\u001b[0;34m\u001b[0m\u001b[0;34m\u001b[0m\u001b[0m\n\u001b[1;32m    660\u001b[0m             \u001b[0mX\u001b[0m\u001b[0;34m,\u001b[0m\u001b[0;34m\u001b[0m\u001b[0;34m\u001b[0m\u001b[0m\n",
            "\u001b[0;32m/usr/local/lib/python3.11/dist-packages/sklearn/utils/validation.py\u001b[0m in \u001b[0;36mvalidate_data\u001b[0;34m(_estimator, X, y, reset, validate_separately, skip_check_array, **check_params)\u001b[0m\n\u001b[1;32m   2959\u001b[0m             \u001b[0my\u001b[0m \u001b[0;34m=\u001b[0m \u001b[0mcheck_array\u001b[0m\u001b[0;34m(\u001b[0m\u001b[0my\u001b[0m\u001b[0;34m,\u001b[0m \u001b[0minput_name\u001b[0m\u001b[0;34m=\u001b[0m\u001b[0;34m\"y\"\u001b[0m\u001b[0;34m,\u001b[0m \u001b[0;34m**\u001b[0m\u001b[0mcheck_y_params\u001b[0m\u001b[0;34m)\u001b[0m\u001b[0;34m\u001b[0m\u001b[0;34m\u001b[0m\u001b[0m\n\u001b[1;32m   2960\u001b[0m         \u001b[0;32melse\u001b[0m\u001b[0;34m:\u001b[0m\u001b[0;34m\u001b[0m\u001b[0;34m\u001b[0m\u001b[0m\n\u001b[0;32m-> 2961\u001b[0;31m             \u001b[0mX\u001b[0m\u001b[0;34m,\u001b[0m \u001b[0my\u001b[0m \u001b[0;34m=\u001b[0m \u001b[0mcheck_X_y\u001b[0m\u001b[0;34m(\u001b[0m\u001b[0mX\u001b[0m\u001b[0;34m,\u001b[0m \u001b[0my\u001b[0m\u001b[0;34m,\u001b[0m \u001b[0;34m**\u001b[0m\u001b[0mcheck_params\u001b[0m\u001b[0;34m)\u001b[0m\u001b[0;34m\u001b[0m\u001b[0;34m\u001b[0m\u001b[0m\n\u001b[0m\u001b[1;32m   2962\u001b[0m         \u001b[0mout\u001b[0m \u001b[0;34m=\u001b[0m \u001b[0mX\u001b[0m\u001b[0;34m,\u001b[0m \u001b[0my\u001b[0m\u001b[0;34m\u001b[0m\u001b[0;34m\u001b[0m\u001b[0m\n\u001b[1;32m   2963\u001b[0m \u001b[0;34m\u001b[0m\u001b[0m\n",
            "\u001b[0;32m/usr/local/lib/python3.11/dist-packages/sklearn/utils/validation.py\u001b[0m in \u001b[0;36mcheck_X_y\u001b[0;34m(X, y, accept_sparse, accept_large_sparse, dtype, order, copy, force_writeable, force_all_finite, ensure_all_finite, ensure_2d, allow_nd, multi_output, ensure_min_samples, ensure_min_features, y_numeric, estimator)\u001b[0m\n\u001b[1;32m   1368\u001b[0m     \u001b[0mensure_all_finite\u001b[0m \u001b[0;34m=\u001b[0m \u001b[0m_deprecate_force_all_finite\u001b[0m\u001b[0;34m(\u001b[0m\u001b[0mforce_all_finite\u001b[0m\u001b[0;34m,\u001b[0m \u001b[0mensure_all_finite\u001b[0m\u001b[0;34m)\u001b[0m\u001b[0;34m\u001b[0m\u001b[0;34m\u001b[0m\u001b[0m\n\u001b[1;32m   1369\u001b[0m \u001b[0;34m\u001b[0m\u001b[0m\n\u001b[0;32m-> 1370\u001b[0;31m     X = check_array(\n\u001b[0m\u001b[1;32m   1371\u001b[0m         \u001b[0mX\u001b[0m\u001b[0;34m,\u001b[0m\u001b[0;34m\u001b[0m\u001b[0;34m\u001b[0m\u001b[0m\n\u001b[1;32m   1372\u001b[0m         \u001b[0maccept_sparse\u001b[0m\u001b[0;34m=\u001b[0m\u001b[0maccept_sparse\u001b[0m\u001b[0;34m,\u001b[0m\u001b[0;34m\u001b[0m\u001b[0;34m\u001b[0m\u001b[0m\n",
            "\u001b[0;32m/usr/local/lib/python3.11/dist-packages/sklearn/utils/validation.py\u001b[0m in \u001b[0;36mcheck_array\u001b[0;34m(array, accept_sparse, accept_large_sparse, dtype, order, copy, force_writeable, force_all_finite, ensure_all_finite, ensure_non_negative, ensure_2d, allow_nd, ensure_min_samples, ensure_min_features, estimator, input_name)\u001b[0m\n\u001b[1;32m   1105\u001b[0m \u001b[0;34m\u001b[0m\u001b[0m\n\u001b[1;32m   1106\u001b[0m         \u001b[0;32mif\u001b[0m \u001b[0mensure_all_finite\u001b[0m\u001b[0;34m:\u001b[0m\u001b[0;34m\u001b[0m\u001b[0;34m\u001b[0m\u001b[0m\n\u001b[0;32m-> 1107\u001b[0;31m             _assert_all_finite(\n\u001b[0m\u001b[1;32m   1108\u001b[0m                 \u001b[0marray\u001b[0m\u001b[0;34m,\u001b[0m\u001b[0;34m\u001b[0m\u001b[0;34m\u001b[0m\u001b[0m\n\u001b[1;32m   1109\u001b[0m                 \u001b[0minput_name\u001b[0m\u001b[0;34m=\u001b[0m\u001b[0minput_name\u001b[0m\u001b[0;34m,\u001b[0m\u001b[0;34m\u001b[0m\u001b[0;34m\u001b[0m\u001b[0m\n",
            "\u001b[0;32m/usr/local/lib/python3.11/dist-packages/sklearn/utils/validation.py\u001b[0m in \u001b[0;36m_assert_all_finite\u001b[0;34m(X, allow_nan, msg_dtype, estimator_name, input_name)\u001b[0m\n\u001b[1;32m    118\u001b[0m         \u001b[0;32mreturn\u001b[0m\u001b[0;34m\u001b[0m\u001b[0;34m\u001b[0m\u001b[0m\n\u001b[1;32m    119\u001b[0m \u001b[0;34m\u001b[0m\u001b[0m\n\u001b[0;32m--> 120\u001b[0;31m     _assert_all_finite_element_wise(\n\u001b[0m\u001b[1;32m    121\u001b[0m         \u001b[0mX\u001b[0m\u001b[0;34m,\u001b[0m\u001b[0;34m\u001b[0m\u001b[0;34m\u001b[0m\u001b[0m\n\u001b[1;32m    122\u001b[0m         \u001b[0mxp\u001b[0m\u001b[0;34m=\u001b[0m\u001b[0mxp\u001b[0m\u001b[0;34m,\u001b[0m\u001b[0;34m\u001b[0m\u001b[0;34m\u001b[0m\u001b[0m\n",
            "\u001b[0;32m/usr/local/lib/python3.11/dist-packages/sklearn/utils/validation.py\u001b[0m in \u001b[0;36m_assert_all_finite_element_wise\u001b[0;34m(X, xp, allow_nan, msg_dtype, estimator_name, input_name)\u001b[0m\n\u001b[1;32m    167\u001b[0m                 \u001b[0;34m\"#estimators-that-handle-nan-values\"\u001b[0m\u001b[0;34m\u001b[0m\u001b[0;34m\u001b[0m\u001b[0m\n\u001b[1;32m    168\u001b[0m             )\n\u001b[0;32m--> 169\u001b[0;31m         \u001b[0;32mraise\u001b[0m \u001b[0mValueError\u001b[0m\u001b[0;34m(\u001b[0m\u001b[0mmsg_err\u001b[0m\u001b[0;34m)\u001b[0m\u001b[0;34m\u001b[0m\u001b[0;34m\u001b[0m\u001b[0m\n\u001b[0m\u001b[1;32m    170\u001b[0m \u001b[0;34m\u001b[0m\u001b[0m\n\u001b[1;32m    171\u001b[0m \u001b[0;34m\u001b[0m\u001b[0m\n",
            "\u001b[0;31mValueError\u001b[0m: Input X contains NaN.\nGradientBoostingClassifier does not accept missing values encoded as NaN natively. For supervised learning, you might want to consider sklearn.ensemble.HistGradientBoostingClassifier and Regressor which accept missing values encoded as NaNs natively. Alternatively, it is possible to preprocess the data, for instance by using an imputer transformer in a pipeline or drop samples with missing values. See https://scikit-learn.org/stable/modules/impute.html You can find a list of all estimators that handle NaN values at the following page: https://scikit-learn.org/stable/modules/impute.html#estimators-that-handle-nan-values"
          ]
        }
      ],
      "source": [
        "# Filter dataset with selected descriptors\n",
        "# X_selected = X_df[selected_descriptors].values\n",
        "\n",
        "# Split data into training (80%) and testing (20%)\n",
        "X_train, X_test, y_train, y_test = train_test_split(X, y, test_size=0.2, random_state=42)\n",
        "# X_train, X_test, y_train, y_test = train_test_split(X, y, test_size=0.2, random_state=42)\n",
        "\n",
        "# Define the ensemble models\n",
        "models = {\n",
        "    \"AdaBoost\": AdaBoostClassifier(n_estimators=100, random_state=42),\n",
        "    \"Gradient Boosting\": GradientBoostingClassifier(n_estimators=100, random_state=42),\n",
        "    \"Extra Trees\": ExtraTreesClassifier(n_estimators=100, random_state=42),\n",
        "    \"Random Forest\": RandomForestClassifier(n_estimators=100, random_state=42)\n",
        "}\n",
        "\n",
        "# Train and evaluate each model\n",
        "for name, model in models.items():\n",
        "    model.fit(X_train, y_train)  # Train model\n",
        "    y_pred = model.predict(X_test)  # Make predictions\n",
        "    accuracy = accuracy_score(y_test, y_pred)  # Compute accuracy\n",
        "    print(f\"{name} Accuracy: {accuracy:.4f}\")\n"
      ]
    },
    {
      "cell_type": "markdown",
      "metadata": {
        "id": "CTBevKFJKCHY"
      },
      "source": [
        "### Cross-Validation for More Reliable Evaluation"
      ]
    },
    {
      "cell_type": "code",
      "execution_count": null,
      "metadata": {
        "id": "lxT95rbqKGJI"
      },
      "outputs": [],
      "source": [
        "# Perform 10-fold cross-validation on all models\n",
        "for name, model in models.items():\n",
        "    scores = cross_val_score(model, X_selected, y, cv=10, scoring='accuracy')\n",
        "    print(f\"{name} Cross-Validation Accuracy: {scores.mean():.4f} ± {scores.std():.4f}\")\n"
      ]
    },
    {
      "cell_type": "markdown",
      "metadata": {
        "id": "-CqCT1imKHHW"
      },
      "source": []
    },
    {
      "cell_type": "code",
      "execution_count": null,
      "metadata": {
        "id": "o1Mk8O16KHmW"
      },
      "outputs": [],
      "source": []
    }
  ],
  "metadata": {
    "colab": {
      "provenance": []
    },
    "kernelspec": {
      "display_name": "drug",
      "language": "python",
      "name": "python3"
    },
    "language_info": {
      "codemirror_mode": {
        "name": "ipython",
        "version": 3
      },
      "file_extension": ".py",
      "mimetype": "text/x-python",
      "name": "python",
      "nbconvert_exporter": "python",
      "pygments_lexer": "ipython3",
      "version": "3.11.11"
    }
  },
  "nbformat": 4,
  "nbformat_minor": 0
}
